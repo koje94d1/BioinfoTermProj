{
 "cells": [
  {
   "cell_type": "code",
   "execution_count": 10,
   "metadata": {},
   "outputs": [
    {
     "name": "stdout",
     "output_type": "stream",
     "text": [
      "/rna/seojin/proj/bioinformatics/bioinfo_term_proj/binfo1-work\n"
     ]
    }
   ],
   "source": [
    "%cd ../binfo1-work"
   ]
  },
  {
   "cell_type": "code",
   "execution_count": 11,
   "metadata": {},
   "outputs": [],
   "source": [
    "import pandas as pd\n",
    "import numpy as np"
   ]
  },
  {
   "cell_type": "code",
   "execution_count": 12,
   "metadata": {},
   "outputs": [],
   "source": [
    "mutation_rich = pd.read_csv('Seojin_Termproj/CLIP-35L33G_with_Shannon_mutation_rich.pileup', sep='\\t')"
   ]
  },
  {
   "cell_type": "code",
   "execution_count": 13,
   "metadata": {},
   "outputs": [],
   "source": [
    "reverse_pileup = pd.read_csv('Seojin_Termproj/reverse_CLIP-35L33G.pileup', sep='\\t', names=['chrom', 'pos', '_ref', 'count', 'basereads', 'quals'])"
   ]
  },
  {
   "cell_type": "code",
   "execution_count": 14,
   "metadata": {},
   "outputs": [
    {
     "ename": "ModuleNotFoundError",
     "evalue": "No module named 'ace_tools'",
     "output_type": "error",
     "traceback": [
      "\u001b[0;31m---------------------------------------------------------------------------\u001b[0m",
      "\u001b[0;31mModuleNotFoundError\u001b[0m                       Traceback (most recent call last)",
      "Cell \u001b[0;32mIn[14], line 12\u001b[0m\n\u001b[1;32m      9\u001b[0m mutation_rich[\u001b[38;5;124m'\u001b[39m\u001b[38;5;124mreverse_comp\u001b[39m\u001b[38;5;124m'\u001b[39m] \u001b[38;5;241m=\u001b[39m mutation_rich[\u001b[38;5;124m'\u001b[39m\u001b[38;5;124mreverse_comp\u001b[39m\u001b[38;5;124m'\u001b[39m]\u001b[38;5;241m.\u001b[39mfillna(\u001b[38;5;241m0\u001b[39m)\u001b[38;5;241m.\u001b[39mastype(\u001b[38;5;28mint\u001b[39m)\n\u001b[1;32m     11\u001b[0m \u001b[38;5;66;03m# Display the optimized DataFrame to the user\u001b[39;00m\n\u001b[0;32m---> 12\u001b[0m \u001b[38;5;28;01mimport\u001b[39;00m \u001b[38;5;21;01mace_tools\u001b[39;00m \u001b[38;5;28;01mas\u001b[39;00m \u001b[38;5;21;01mtools\u001b[39;00m; tools\u001b[38;5;241m.\u001b[39mdisplay_dataframe_to_user(name\u001b[38;5;241m=\u001b[39m\u001b[38;5;124m\"\u001b[39m\u001b[38;5;124mOptimized Mutation Rich DataFrame\u001b[39m\u001b[38;5;124m\"\u001b[39m, dataframe\u001b[38;5;241m=\u001b[39mmutation_rich)\n",
      "\u001b[0;31mModuleNotFoundError\u001b[0m: No module named 'ace_tools'"
     ]
    }
   ],
   "source": [
    "# Ensure reverse_pileup has necessary columns for merging\n",
    "reverse_pileup_subset = reverse_pileup[['pos', 'chrom']].copy()\n",
    "reverse_pileup_subset['reverse_comp'] = 1\n",
    "\n",
    "# Merge mutation_rich with reverse_pileup to find matching positions and chromosomes\n",
    "mutation_rich = mutation_rich.merge(reverse_pileup_subset, on=['pos', 'chrom'], how='left')\n",
    "\n",
    "# Fill NaN values in reverse_comp with 0 (since merge will produce NaN where there is no match)\n",
    "mutation_rich['reverse_comp'] = mutation_rich['reverse_comp'].fillna(0).astype(int)\n",
    "\n",
    "# Display the optimized DataFrame to the user\n",
    "import ace_tools as tools; tools.display_dataframe_to_user(name=\"Optimized Mutation Rich DataFrame\", dataframe=mutation_rich)\n"
   ]
  },
  {
   "cell_type": "code",
   "execution_count": 15,
   "metadata": {},
   "outputs": [
    {
     "data": {
      "text/html": [
       "<div>\n",
       "<style scoped>\n",
       "    .dataframe tbody tr th:only-of-type {\n",
       "        vertical-align: middle;\n",
       "    }\n",
       "\n",
       "    .dataframe tbody tr th {\n",
       "        vertical-align: top;\n",
       "    }\n",
       "\n",
       "    .dataframe thead th {\n",
       "        text-align: right;\n",
       "    }\n",
       "</style>\n",
       "<table border=\"1\" class=\"dataframe\">\n",
       "  <thead>\n",
       "    <tr style=\"text-align: right;\">\n",
       "      <th></th>\n",
       "      <th>chrom</th>\n",
       "      <th>pos</th>\n",
       "      <th>_ref</th>\n",
       "      <th>count</th>\n",
       "      <th>basereads</th>\n",
       "      <th>quals</th>\n",
       "      <th>filtered_basereads</th>\n",
       "      <th>Shannon_entropy</th>\n",
       "      <th>reverse_comp</th>\n",
       "    </tr>\n",
       "  </thead>\n",
       "  <tbody>\n",
       "    <tr>\n",
       "      <th>0</th>\n",
       "      <td>chr1</td>\n",
       "      <td>3222726</td>\n",
       "      <td>N</td>\n",
       "      <td>156</td>\n",
       "      <td>GGGAAAAGGAAAGGGGGAAAAGAGGGAGCAAGGAGGGGAGGAGGAG...</td>\n",
       "      <td>HB:IHGIIGGIGDFHII@IFBHGHGBHGCBI@IIHGBIGI;&gt;E@BI...</td>\n",
       "      <td>GGGAAAAGGAAAGGGGGAAAAGAGGGAGCAAGGAGGGGAGGAGGAG...</td>\n",
       "      <td>1.401164</td>\n",
       "      <td>0</td>\n",
       "    </tr>\n",
       "    <tr>\n",
       "      <th>1</th>\n",
       "      <td>chr1</td>\n",
       "      <td>3224576</td>\n",
       "      <td>N</td>\n",
       "      <td>168</td>\n",
       "      <td>CCCG*GGGG*GGGGC*GGGGGGGGGG**GGGGGCTCTGCCCCCCCG...</td>\n",
       "      <td>BGI?H?G8HIEGHIIIBIHFIE9GIIG?=E?:HHGBA8GCB??0GH...</td>\n",
       "      <td>CCCG*GGGG*GGGGC*GGGGGGGGGG**GGGGGCTCTGCCCCCCCG...</td>\n",
       "      <td>1.511601</td>\n",
       "      <td>0</td>\n",
       "    </tr>\n",
       "    <tr>\n",
       "      <th>2</th>\n",
       "      <td>chr1</td>\n",
       "      <td>4329961</td>\n",
       "      <td>N</td>\n",
       "      <td>55</td>\n",
       "      <td>&lt;&lt;cccccccccccccccccccccccccctcctccct*tttttt*tt...</td>\n",
       "      <td>8IDGDH6HHGIGD&lt;EHGBIGGDHBIIG&gt;HH8HEIIIHGIFHIGHGH...</td>\n",
       "      <td>cccccccccccccccccccccccccctcctccct*tttttt*ttcc...</td>\n",
       "      <td>0.955640</td>\n",
       "      <td>1</td>\n",
       "    </tr>\n",
       "    <tr>\n",
       "      <th>3</th>\n",
       "      <td>chr1</td>\n",
       "      <td>4329962</td>\n",
       "      <td>N</td>\n",
       "      <td>55</td>\n",
       "      <td>&lt;&lt;ccccccccccccc$tttc$c$c$ttttc$ttcggcgggcccccc...</td>\n",
       "      <td>8IDGDG=HH@IGBBEHGIIHEEHGFIGDIH?HDHIIHGGIHIHHGG...</td>\n",
       "      <td>ccccccccccccctttcccttttcttcggcgggccccccccccctt...</td>\n",
       "      <td>1.300060</td>\n",
       "      <td>1</td>\n",
       "    </tr>\n",
       "    <tr>\n",
       "      <th>4</th>\n",
       "      <td>chr1</td>\n",
       "      <td>4631665</td>\n",
       "      <td>N</td>\n",
       "      <td>170</td>\n",
       "      <td>ggggggggggggggGGGCGGCGCGGGGAGGAGAAGAAGAGGAAAAA...</td>\n",
       "      <td>GDIHIDIIIIIDEHGDHBIHGIHHBIBCH4DHII?IG?IIGI8HII...</td>\n",
       "      <td>ggggggggggggggGGGCGGCGCGGGGAGGAGAAGAAGAGGAAAAA...</td>\n",
       "      <td>1.037749</td>\n",
       "      <td>1</td>\n",
       "    </tr>\n",
       "  </tbody>\n",
       "</table>\n",
       "</div>"
      ],
      "text/plain": [
       "  chrom      pos _ref  count  \\\n",
       "0  chr1  3222726    N    156   \n",
       "1  chr1  3224576    N    168   \n",
       "2  chr1  4329961    N     55   \n",
       "3  chr1  4329962    N     55   \n",
       "4  chr1  4631665    N    170   \n",
       "\n",
       "                                           basereads  \\\n",
       "0  GGGAAAAGGAAAGGGGGAAAAGAGGGAGCAAGGAGGGGAGGAGGAG...   \n",
       "1  CCCG*GGGG*GGGGC*GGGGGGGGGG**GGGGGCTCTGCCCCCCCG...   \n",
       "2  <<cccccccccccccccccccccccccctcctccct*tttttt*tt...   \n",
       "3  <<ccccccccccccc$tttc$c$c$ttttc$ttcggcgggcccccc...   \n",
       "4  ggggggggggggggGGGCGGCGCGGGGAGGAGAAGAAGAGGAAAAA...   \n",
       "\n",
       "                                               quals  \\\n",
       "0  HB:IHGIIGGIGDFHII@IFBHGHGBHGCBI@IIHGBIGI;>E@BI...   \n",
       "1  BGI?H?G8HIEGHIIIBIHFIE9GIIG?=E?:HHGBA8GCB??0GH...   \n",
       "2  8IDGDH6HHGIGD<EHGBIGGDHBIIG>HH8HEIIIHGIFHIGHGH...   \n",
       "3  8IDGDG=HH@IGBBEHGIIHEEHGFIGDIH?HDHIIHGGIHIHHGG...   \n",
       "4  GDIHIDIIIIIDEHGDHBIHGIHHBIBCH4DHII?IG?IIGI8HII...   \n",
       "\n",
       "                                  filtered_basereads  Shannon_entropy  \\\n",
       "0  GGGAAAAGGAAAGGGGGAAAAGAGGGAGCAAGGAGGGGAGGAGGAG...         1.401164   \n",
       "1  CCCG*GGGG*GGGGC*GGGGGGGGGG**GGGGGCTCTGCCCCCCCG...         1.511601   \n",
       "2  cccccccccccccccccccccccccctcctccct*tttttt*ttcc...         0.955640   \n",
       "3  ccccccccccccctttcccttttcttcggcgggccccccccccctt...         1.300060   \n",
       "4  ggggggggggggggGGGCGGCGCGGGGAGGAGAAGAAGAGGAAAAA...         1.037749   \n",
       "\n",
       "   reverse_comp  \n",
       "0             0  \n",
       "1             0  \n",
       "2             1  \n",
       "3             1  \n",
       "4             1  "
      ]
     },
     "execution_count": 15,
     "metadata": {},
     "output_type": "execute_result"
    }
   ],
   "source": [
    "mutation_rich.head()"
   ]
  },
  {
   "cell_type": "code",
   "execution_count": null,
   "metadata": {},
   "outputs": [],
   "source": []
  }
 ],
 "metadata": {
  "language_info": {
   "name": "python"
  }
 },
 "nbformat": 4,
 "nbformat_minor": 2
}
