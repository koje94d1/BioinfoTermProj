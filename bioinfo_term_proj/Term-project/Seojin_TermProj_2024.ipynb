{
 "cells": [
  {
   "cell_type": "markdown",
   "metadata": {},
   "source": [
    "Go to working repository"
   ]
  },
  {
   "cell_type": "code",
   "execution_count": 2,
   "metadata": {},
   "outputs": [
    {
     "name": "stdout",
     "output_type": "stream",
     "text": [
      "/rna/seojin/proj/bioinformatics/bioinfo_term_proj/binfo1-work\n"
     ]
    }
   ],
   "source": [
    "%cd ../binfo1-work"
   ]
  },
  {
   "cell_type": "markdown",
   "metadata": {},
   "source": [
    "Make LIN28A(antibody 35L33G) CLIP PileUp from BAM.\n",
    "In order to control the + and - strand, make the reverse PileUp using FLAG 16(option -f 16 in samtools view)"
   ]
  },
  {
   "cell_type": "code",
   "execution_count": 2,
   "metadata": {},
   "outputs": [
    {
     "name": "stdout",
     "output_type": "stream",
     "text": [
      "[mpileup] 1 samples in 1 input files\n",
      "68548 CLIP-let7g.pileup\n"
     ]
    }
   ],
   "source": [
    "!samtools mpileup ../binfo1-datapack1/CLIP-35L33G.bam > Seojin_Termproj/CLIP-35L33G.pileup\n",
    "!wc -l CLIP-35L33G.pileup\n",
    "!samtools view -f 16 ../CLIP-35L33G.bam -o reverse_CLIP-35L33G.bam\n",
    "!samtools mpileup reverse_CLIP-35L33G.bam > reverse_CLIP-35L33G.pileup\n",
    "!wc -l reverse_CLIP-35L33G.pileup"
   ]
  },
  {
   "cell_type": "markdown",
   "metadata": {},
   "source": [
    "695484251 reverse_CLIP-35L33G.pileup"
   ]
  },
  {
   "cell_type": "code",
   "execution_count": 3,
   "metadata": {},
   "outputs": [
    {
     "name": "stdout",
     "output_type": "stream",
     "text": [
      "chr1\t3056473\tN\t4\t^!G^!G^!G^!G\tHGGI\n",
      "chr1\t3056474\tN\t4\tAAAA\tHB@I\n",
      "chr1\t3056475\tN\t4\tAAAA\tGG?I\n",
      "chr1\t3056476\tN\t4\tTTTT\tHGGH\n",
      "chr1\t3056477\tN\t4\tGGGG\tHEGI\n",
      "chr1\t3056478\tN\t4\tGGGG\tGEEI\n",
      "chr1\t3056479\tN\t4\tAAAA\tEA=I\n",
      "chr1\t3056480\tN\t4\tAAAA\t@AEH\n",
      "chr1\t3056481\tN\t4\tGGGG\tGFFI\n",
      "chr1\t3056482\tN\t4\tTTTT\tG=BG\n"
     ]
    }
   ],
   "source": [
    "!head Seojin_Termproj/CLIP-35L33G.pileup"
   ]
  },
  {
   "cell_type": "code",
   "execution_count": null,
   "metadata": {},
   "outputs": [],
   "source": [
    "!head Seojin_Termproj/reverse_CLIP-35L33G.pileup"
   ]
  },
  {
   "cell_type": "markdown",
   "metadata": {},
   "source": [
    "chr1    3059006 N       8       ^!t^!t^!t^!t^!t^!t^!t^!t        EIGDDD?I\n",
    "chr1    3059007 N       8       tttttttt        GFDDF?3I\n",
    "chr1    3059008 N       8       cccccccc        7GDGI>BI\n",
    "chr1    3059009 N       8       aaaaaaaa        :IBGH>BI\n",
    "chr1    3059010 N       8       tttttttt        7DGGH>BI\n",
    "chr1    3059011 N       8       tttttttt        7DGBI?;I\n",
    "chr1    3059012 N       8       tttttttt        6IBGI>;I\n",
    "chr1    3059013 N       8       aaaaaaaa        DHGGI??I\n",
    "chr1    3059014 N       8       cccccccc        GIGEGBFI\n",
    "chr1    3059015 N       8       aaaaaaaa        GHGGG@DH"
   ]
  },
  {
   "cell_type": "code",
   "execution_count": 3,
   "metadata": {},
   "outputs": [],
   "source": [
    "import pandas as pd"
   ]
  },
  {
   "cell_type": "markdown",
   "metadata": {},
   "source": [
    "(Fig2A) CRES >= 0.8 (Shannon Entrophy) and read counts >= 50 to get highly mutated coordinates"
   ]
  },
  {
   "cell_type": "code",
   "execution_count": 16,
   "metadata": {},
   "outputs": [
    {
     "ename": "KeyboardInterrupt",
     "evalue": "",
     "output_type": "error",
     "traceback": [
      "\u001b[0;31m---------------------------------------------------------------------------\u001b[0m",
      "\u001b[0;31mKeyboardInterrupt\u001b[0m                         Traceback (most recent call last)",
      "Cell \u001b[0;32mIn[16], line 1\u001b[0m\n\u001b[0;32m----> 1\u001b[0m pileup \u001b[38;5;241m=\u001b[39m \u001b[43mpd\u001b[49m\u001b[38;5;241;43m.\u001b[39;49m\u001b[43mread_csv\u001b[49m\u001b[43m(\u001b[49m\u001b[38;5;124;43m'\u001b[39;49m\u001b[38;5;124;43mSeojin_Termproj/CLIP-35L33G.pileup\u001b[39;49m\u001b[38;5;124;43m'\u001b[39;49m\u001b[43m,\u001b[49m\u001b[43m \u001b[49m\u001b[43msep\u001b[49m\u001b[38;5;241;43m=\u001b[39;49m\u001b[38;5;124;43m'\u001b[39;49m\u001b[38;5;130;43;01m\\t\u001b[39;49;00m\u001b[38;5;124;43m'\u001b[39;49m\u001b[43m,\u001b[49m\u001b[43m \u001b[49m\u001b[43mnames\u001b[49m\u001b[38;5;241;43m=\u001b[39;49m\u001b[43m[\u001b[49m\u001b[38;5;124;43m'\u001b[39;49m\u001b[38;5;124;43mchrom\u001b[39;49m\u001b[38;5;124;43m'\u001b[39;49m\u001b[43m,\u001b[49m\u001b[43m \u001b[49m\u001b[38;5;124;43m'\u001b[39;49m\u001b[38;5;124;43mpos\u001b[39;49m\u001b[38;5;124;43m'\u001b[39;49m\u001b[43m,\u001b[49m\u001b[43m \u001b[49m\u001b[38;5;124;43m'\u001b[39;49m\u001b[38;5;124;43m_ref\u001b[39;49m\u001b[38;5;124;43m'\u001b[39;49m\u001b[43m,\u001b[49m\u001b[43m \u001b[49m\u001b[38;5;124;43m'\u001b[39;49m\u001b[38;5;124;43mcount\u001b[39;49m\u001b[38;5;124;43m'\u001b[39;49m\u001b[43m,\u001b[49m\u001b[43m \u001b[49m\u001b[38;5;124;43m'\u001b[39;49m\u001b[38;5;124;43mbasereads\u001b[39;49m\u001b[38;5;124;43m'\u001b[39;49m\u001b[43m,\u001b[49m\u001b[43m \u001b[49m\u001b[38;5;124;43m'\u001b[39;49m\u001b[38;5;124;43mquals\u001b[39;49m\u001b[38;5;124;43m'\u001b[39;49m\u001b[43m]\u001b[49m\u001b[43m)\u001b[49m\n\u001b[1;32m      2\u001b[0m \u001b[38;5;66;03m# pileup.tail()\u001b[39;00m\n",
      "File \u001b[0;32m~/conda/envs/bioinfo/lib/python3.12/site-packages/pandas/io/parsers/readers.py:1026\u001b[0m, in \u001b[0;36mread_csv\u001b[0;34m(filepath_or_buffer, sep, delimiter, header, names, index_col, usecols, dtype, engine, converters, true_values, false_values, skipinitialspace, skiprows, skipfooter, nrows, na_values, keep_default_na, na_filter, verbose, skip_blank_lines, parse_dates, infer_datetime_format, keep_date_col, date_parser, date_format, dayfirst, cache_dates, iterator, chunksize, compression, thousands, decimal, lineterminator, quotechar, quoting, doublequote, escapechar, comment, encoding, encoding_errors, dialect, on_bad_lines, delim_whitespace, low_memory, memory_map, float_precision, storage_options, dtype_backend)\u001b[0m\n\u001b[1;32m   1013\u001b[0m kwds_defaults \u001b[38;5;241m=\u001b[39m _refine_defaults_read(\n\u001b[1;32m   1014\u001b[0m     dialect,\n\u001b[1;32m   1015\u001b[0m     delimiter,\n\u001b[0;32m   (...)\u001b[0m\n\u001b[1;32m   1022\u001b[0m     dtype_backend\u001b[38;5;241m=\u001b[39mdtype_backend,\n\u001b[1;32m   1023\u001b[0m )\n\u001b[1;32m   1024\u001b[0m kwds\u001b[38;5;241m.\u001b[39mupdate(kwds_defaults)\n\u001b[0;32m-> 1026\u001b[0m \u001b[38;5;28;01mreturn\u001b[39;00m \u001b[43m_read\u001b[49m\u001b[43m(\u001b[49m\u001b[43mfilepath_or_buffer\u001b[49m\u001b[43m,\u001b[49m\u001b[43m \u001b[49m\u001b[43mkwds\u001b[49m\u001b[43m)\u001b[49m\n",
      "File \u001b[0;32m~/conda/envs/bioinfo/lib/python3.12/site-packages/pandas/io/parsers/readers.py:626\u001b[0m, in \u001b[0;36m_read\u001b[0;34m(filepath_or_buffer, kwds)\u001b[0m\n\u001b[1;32m    623\u001b[0m     \u001b[38;5;28;01mreturn\u001b[39;00m parser\n\u001b[1;32m    625\u001b[0m \u001b[38;5;28;01mwith\u001b[39;00m parser:\n\u001b[0;32m--> 626\u001b[0m     \u001b[38;5;28;01mreturn\u001b[39;00m \u001b[43mparser\u001b[49m\u001b[38;5;241;43m.\u001b[39;49m\u001b[43mread\u001b[49m\u001b[43m(\u001b[49m\u001b[43mnrows\u001b[49m\u001b[43m)\u001b[49m\n",
      "File \u001b[0;32m~/conda/envs/bioinfo/lib/python3.12/site-packages/pandas/io/parsers/readers.py:1923\u001b[0m, in \u001b[0;36mTextFileReader.read\u001b[0;34m(self, nrows)\u001b[0m\n\u001b[1;32m   1916\u001b[0m nrows \u001b[38;5;241m=\u001b[39m validate_integer(\u001b[38;5;124m\"\u001b[39m\u001b[38;5;124mnrows\u001b[39m\u001b[38;5;124m\"\u001b[39m, nrows)\n\u001b[1;32m   1917\u001b[0m \u001b[38;5;28;01mtry\u001b[39;00m:\n\u001b[1;32m   1918\u001b[0m     \u001b[38;5;66;03m# error: \"ParserBase\" has no attribute \"read\"\u001b[39;00m\n\u001b[1;32m   1919\u001b[0m     (\n\u001b[1;32m   1920\u001b[0m         index,\n\u001b[1;32m   1921\u001b[0m         columns,\n\u001b[1;32m   1922\u001b[0m         col_dict,\n\u001b[0;32m-> 1923\u001b[0m     ) \u001b[38;5;241m=\u001b[39m \u001b[38;5;28;43mself\u001b[39;49m\u001b[38;5;241;43m.\u001b[39;49m\u001b[43m_engine\u001b[49m\u001b[38;5;241;43m.\u001b[39;49m\u001b[43mread\u001b[49m\u001b[43m(\u001b[49m\u001b[43m  \u001b[49m\u001b[38;5;66;43;03m# type: ignore[attr-defined]\u001b[39;49;00m\n\u001b[1;32m   1924\u001b[0m \u001b[43m        \u001b[49m\u001b[43mnrows\u001b[49m\n\u001b[1;32m   1925\u001b[0m \u001b[43m    \u001b[49m\u001b[43m)\u001b[49m\n\u001b[1;32m   1926\u001b[0m \u001b[38;5;28;01mexcept\u001b[39;00m \u001b[38;5;167;01mException\u001b[39;00m:\n\u001b[1;32m   1927\u001b[0m     \u001b[38;5;28mself\u001b[39m\u001b[38;5;241m.\u001b[39mclose()\n",
      "File \u001b[0;32m~/conda/envs/bioinfo/lib/python3.12/site-packages/pandas/io/parsers/c_parser_wrapper.py:234\u001b[0m, in \u001b[0;36mCParserWrapper.read\u001b[0;34m(self, nrows)\u001b[0m\n\u001b[1;32m    232\u001b[0m \u001b[38;5;28;01mtry\u001b[39;00m:\n\u001b[1;32m    233\u001b[0m     \u001b[38;5;28;01mif\u001b[39;00m \u001b[38;5;28mself\u001b[39m\u001b[38;5;241m.\u001b[39mlow_memory:\n\u001b[0;32m--> 234\u001b[0m         chunks \u001b[38;5;241m=\u001b[39m \u001b[38;5;28;43mself\u001b[39;49m\u001b[38;5;241;43m.\u001b[39;49m\u001b[43m_reader\u001b[49m\u001b[38;5;241;43m.\u001b[39;49m\u001b[43mread_low_memory\u001b[49m\u001b[43m(\u001b[49m\u001b[43mnrows\u001b[49m\u001b[43m)\u001b[49m\n\u001b[1;32m    235\u001b[0m         \u001b[38;5;66;03m# destructive to chunks\u001b[39;00m\n\u001b[1;32m    236\u001b[0m         data \u001b[38;5;241m=\u001b[39m _concatenate_chunks(chunks)\n",
      "File \u001b[0;32mparsers.pyx:838\u001b[0m, in \u001b[0;36mpandas._libs.parsers.TextReader.read_low_memory\u001b[0;34m()\u001b[0m\n",
      "File \u001b[0;32mparsers.pyx:905\u001b[0m, in \u001b[0;36mpandas._libs.parsers.TextReader._read_rows\u001b[0;34m()\u001b[0m\n",
      "File \u001b[0;32mparsers.pyx:874\u001b[0m, in \u001b[0;36mpandas._libs.parsers.TextReader._tokenize_rows\u001b[0;34m()\u001b[0m\n",
      "File \u001b[0;32mparsers.pyx:891\u001b[0m, in \u001b[0;36mpandas._libs.parsers.TextReader._check_tokenize_status\u001b[0;34m()\u001b[0m\n",
      "File \u001b[0;32mparsers.pyx:2053\u001b[0m, in \u001b[0;36mpandas._libs.parsers.raise_parser_error\u001b[0;34m()\u001b[0m\n",
      "File \u001b[0;32m<frozen codecs>:331\u001b[0m, in \u001b[0;36mgetstate\u001b[0;34m(self)\u001b[0m\n",
      "\u001b[0;31mKeyboardInterrupt\u001b[0m: "
     ]
    }
   ],
   "source": [
    "pileup = pd.read_csv('Seojin_Termproj/CLIP-35L33G.pileup', sep='\\t', names=['chrom', 'pos', '_ref', 'count', 'basereads', 'quals'])\n",
    "# pileup.tail()"
   ]
  },
  {
   "cell_type": "markdown",
   "metadata": {},
   "source": [
    "Leave only match(. or ,), mismatch(ACGT or acgt), deletion(* or */#) from basereads. I won't consider insertion(+)"
   ]
  },
  {
   "cell_type": "code",
   "execution_count": 17,
   "metadata": {},
   "outputs": [],
   "source": [
    "import re\n"
   ]
  },
  {
   "cell_type": "markdown",
   "metadata": {},
   "source": [
    "- Use substitution and deletion to calculate Shannon entropy. Before that, check for pattern other than -(number)NN...N"
   ]
  },
  {
   "cell_type": "code",
   "execution_count": 6,
   "metadata": {},
   "outputs": [],
   "source": [
    "# (+or-)(any number k)(length k with word with at leaste 1 element in ATGCatgc) to regex\n",
    "pattern = re.compile(r'[\\+\\-]([1-9][0-9]*)((?=.*[ATGCatgc])[A-Za-z]{\\1})')\n",
    "\n",
    "for row in pileup.itertuples():\n",
    "    # check if pattern is contained in the basereads\n",
    "    match = pattern.search(row.basereads)\n",
    "    if match:\n",
    "        print(match.groups())"
   ]
  },
  {
   "cell_type": "markdown",
   "metadata": {},
   "source": [
    "- There is no -3ATG case. All of the deletion is marked as -3NNN format. Therefore, select only substitution and deletion(marked *) for Shannon Entrophy calculation. "
   ]
  },
  {
   "cell_type": "code",
   "execution_count": 7,
   "metadata": {},
   "outputs": [
    {
     "name": "stderr",
     "output_type": "stream",
     "text": [
      "<>:1: SyntaxWarning: invalid escape sequence '\\*'\n",
      "<>:1: SyntaxWarning: invalid escape sequence '\\*'\n",
      "/tmp/ipykernel_2155664/3979841347.py:1: SyntaxWarning: invalid escape sequence '\\*'\n",
      "  toremove = re.compile('[^ATGCatgc\\*]')\n"
     ]
    }
   ],
   "source": [
    "toremove = re.compile('[^ATGCatgc\\*]') \n",
    "pileup['filtered_basereads'] = pileup['basereads'].apply(lambda x: toremove.sub('', x))"
   ]
  },
  {
   "cell_type": "code",
   "execution_count": 8,
   "metadata": {},
   "outputs": [],
   "source": [
    "import numpy as np\n",
    "def Shannon_entropy(match):\n",
    "    num_A = match.upper().count('A')\n",
    "    num_T = match.upper().count('T')\n",
    "    num_G = match.upper().count('G')\n",
    "    num_C = match.upper().count('C')\n",
    "    num_del = match.upper().count('*')\n",
    "\n",
    "    # Calculate total number of valid bases\n",
    "    total_bases = num_A + num_T + num_G + num_C + num_del\n",
    "\n",
    "    # Calculate probabilities\n",
    "    if total_bases > 0:\n",
    "        p_A = num_A / total_bases\n",
    "        p_T = num_T / total_bases\n",
    "        p_G = num_G / total_bases\n",
    "        p_C = num_C / total_bases\n",
    "        p_del = num_del / total_bases\n",
    "\n",
    "        # Calculate Shannon entropy\n",
    "        entropy = 0\n",
    "        for p in [p_A, p_T, p_G, p_C, p_del]:\n",
    "            if p > 0:\n",
    "                entropy -= p * np.log2(p)\n",
    "    else:\n",
    "        entropy = 0\n",
    "\n",
    "    return entropy\n"
   ]
  },
  {
   "cell_type": "code",
   "execution_count": 13,
   "metadata": {},
   "outputs": [],
   "source": [
    "def Calculate_Shannon_Entropy(pileup):\n",
    "    for row in pileup.itertuples():\n",
    "        shannon_entropy = Shannon_entropy(row.filtered_basereads)\n",
    "        pileup.at[row.Index, 'Shannon_entropy'] = shannon_entropy"
   ]
  },
  {
   "cell_type": "code",
   "execution_count": 14,
   "metadata": {},
   "outputs": [],
   "source": [
    "Calculate_Shannon_Entropy(pileup)"
   ]
  },
  {
   "cell_type": "code",
   "execution_count": 15,
   "metadata": {},
   "outputs": [
    {
     "data": {
      "text/html": [
       "<div>\n",
       "<style scoped>\n",
       "    .dataframe tbody tr th:only-of-type {\n",
       "        vertical-align: middle;\n",
       "    }\n",
       "\n",
       "    .dataframe tbody tr th {\n",
       "        vertical-align: top;\n",
       "    }\n",
       "\n",
       "    .dataframe thead th {\n",
       "        text-align: right;\n",
       "    }\n",
       "</style>\n",
       "<table border=\"1\" class=\"dataframe\">\n",
       "  <thead>\n",
       "    <tr style=\"text-align: right;\">\n",
       "      <th></th>\n",
       "      <th>chrom</th>\n",
       "      <th>pos</th>\n",
       "      <th>_ref</th>\n",
       "      <th>count</th>\n",
       "      <th>basereads</th>\n",
       "      <th>quals</th>\n",
       "      <th>filtered_basereads</th>\n",
       "      <th>Shannon_entropy</th>\n",
       "    </tr>\n",
       "  </thead>\n",
       "  <tbody>\n",
       "    <tr>\n",
       "      <th>0</th>\n",
       "      <td>chr1</td>\n",
       "      <td>3056473</td>\n",
       "      <td>N</td>\n",
       "      <td>4</td>\n",
       "      <td>^!G^!G^!G^!G</td>\n",
       "      <td>HGGI</td>\n",
       "      <td>GGGG</td>\n",
       "      <td>0.0</td>\n",
       "    </tr>\n",
       "    <tr>\n",
       "      <th>1</th>\n",
       "      <td>chr1</td>\n",
       "      <td>3056474</td>\n",
       "      <td>N</td>\n",
       "      <td>4</td>\n",
       "      <td>AAAA</td>\n",
       "      <td>HB@I</td>\n",
       "      <td>AAAA</td>\n",
       "      <td>0.0</td>\n",
       "    </tr>\n",
       "    <tr>\n",
       "      <th>2</th>\n",
       "      <td>chr1</td>\n",
       "      <td>3056475</td>\n",
       "      <td>N</td>\n",
       "      <td>4</td>\n",
       "      <td>AAAA</td>\n",
       "      <td>GG?I</td>\n",
       "      <td>AAAA</td>\n",
       "      <td>0.0</td>\n",
       "    </tr>\n",
       "    <tr>\n",
       "      <th>3</th>\n",
       "      <td>chr1</td>\n",
       "      <td>3056476</td>\n",
       "      <td>N</td>\n",
       "      <td>4</td>\n",
       "      <td>TTTT</td>\n",
       "      <td>HGGH</td>\n",
       "      <td>TTTT</td>\n",
       "      <td>0.0</td>\n",
       "    </tr>\n",
       "    <tr>\n",
       "      <th>4</th>\n",
       "      <td>chr1</td>\n",
       "      <td>3056477</td>\n",
       "      <td>N</td>\n",
       "      <td>4</td>\n",
       "      <td>GGGG</td>\n",
       "      <td>HEGI</td>\n",
       "      <td>GGGG</td>\n",
       "      <td>0.0</td>\n",
       "    </tr>\n",
       "  </tbody>\n",
       "</table>\n",
       "</div>"
      ],
      "text/plain": [
       "  chrom      pos _ref  count     basereads quals filtered_basereads  \\\n",
       "0  chr1  3056473    N      4  ^!G^!G^!G^!G  HGGI               GGGG   \n",
       "1  chr1  3056474    N      4          AAAA  HB@I               AAAA   \n",
       "2  chr1  3056475    N      4          AAAA  GG?I               AAAA   \n",
       "3  chr1  3056476    N      4          TTTT  HGGH               TTTT   \n",
       "4  chr1  3056477    N      4          GGGG  HEGI               GGGG   \n",
       "\n",
       "   Shannon_entropy  \n",
       "0              0.0  \n",
       "1              0.0  \n",
       "2              0.0  \n",
       "3              0.0  \n",
       "4              0.0  "
      ]
     },
     "execution_count": 15,
     "metadata": {},
     "output_type": "execute_result"
    }
   ],
   "source": [
    "pileup.head()"
   ]
  },
  {
   "cell_type": "markdown",
   "metadata": {},
   "source": [
    "If the corresponding location is in - strand, I will make the sequence to reverse complementary"
   ]
  },
  {
   "cell_type": "code",
   "execution_count": null,
   "metadata": {},
   "outputs": [],
   "source": [
    "!wget https://ftp.ebi.ac.uk/pub/databases/gencode/Gencode_mouse/release_M35/GRCm39.primary_assembly.genome.fa.gz\n",
    "!gunzip GRCm39.primary_assembly.genome.fa.gz\n",
    "!samtools faidx GRCm39.primary_assembly.genome.fa"
   ]
  },
  {
   "cell_type": "markdown",
   "metadata": {},
   "source": [
    "- Select CRES >= 0.8 and read counts >= 50 which is highly mutated location"
   ]
  },
  {
   "cell_type": "code",
   "execution_count": 20,
   "metadata": {},
   "outputs": [],
   "source": [
    "mutation_rich = pileup[(pileup['Shannon_entropy'] > 0.8) & (pileup['count'] > 50)]"
   ]
  },
  {
   "cell_type": "code",
   "execution_count": 24,
   "metadata": {},
   "outputs": [],
   "source": [
    "len(mutation_rich)\n",
    "mutation_rich.head()\n",
    "mutation_rich.to_csv('Seojin_Termproj/CLIP-35L33G_with_Shannon_mutation_rich.pileup', sep='\\t', index=False)"
   ]
  },
  {
   "cell_type": "code",
   "execution_count": 4,
   "metadata": {},
   "outputs": [],
   "source": [
    "mutation_rich = pd.read_csv('Seojin_Termproj/CLIP-35L33G_with_Shannon_mutation_rich.pileup', sep='\\t')"
   ]
  },
  {
   "cell_type": "markdown",
   "metadata": {},
   "source": [
    "- Map reverse complement need locations to selected mutation rich pileup file. This will mark - strands for selected highly mutation rich coordinates."
   ]
  },
  {
   "cell_type": "code",
   "execution_count": 5,
   "metadata": {},
   "outputs": [],
   "source": [
    "reverse_pileup = pd.read_csv('Seojin_Termproj/reverse_CLIP-35L33G.pileup', sep='\\t', names=['chrom', 'pos'])"
   ]
  },
  {
   "cell_type": "code",
   "execution_count": 25,
   "metadata": {},
   "outputs": [
    {
     "ename": "KeyError",
     "evalue": "'reverse_comp'",
     "output_type": "error",
     "traceback": [
      "\u001b[0;31m---------------------------------------------------------------------------\u001b[0m",
      "\u001b[0;31mKeyError\u001b[0m                                  Traceback (most recent call last)",
      "File \u001b[0;32m~/conda/envs/bioinfo/lib/python3.12/site-packages/pandas/core/indexes/base.py:3805\u001b[0m, in \u001b[0;36mIndex.get_loc\u001b[0;34m(self, key)\u001b[0m\n\u001b[1;32m   3804\u001b[0m \u001b[38;5;28;01mtry\u001b[39;00m:\n\u001b[0;32m-> 3805\u001b[0m     \u001b[38;5;28;01mreturn\u001b[39;00m \u001b[38;5;28;43mself\u001b[39;49m\u001b[38;5;241;43m.\u001b[39;49m\u001b[43m_engine\u001b[49m\u001b[38;5;241;43m.\u001b[39;49m\u001b[43mget_loc\u001b[49m\u001b[43m(\u001b[49m\u001b[43mcasted_key\u001b[49m\u001b[43m)\u001b[49m\n\u001b[1;32m   3806\u001b[0m \u001b[38;5;28;01mexcept\u001b[39;00m \u001b[38;5;167;01mKeyError\u001b[39;00m \u001b[38;5;28;01mas\u001b[39;00m err:\n",
      "File \u001b[0;32mindex.pyx:167\u001b[0m, in \u001b[0;36mpandas._libs.index.IndexEngine.get_loc\u001b[0;34m()\u001b[0m\n",
      "File \u001b[0;32mindex.pyx:196\u001b[0m, in \u001b[0;36mpandas._libs.index.IndexEngine.get_loc\u001b[0;34m()\u001b[0m\n",
      "File \u001b[0;32mpandas/_libs/hashtable_class_helper.pxi:7081\u001b[0m, in \u001b[0;36mpandas._libs.hashtable.PyObjectHashTable.get_item\u001b[0;34m()\u001b[0m\n",
      "File \u001b[0;32mpandas/_libs/hashtable_class_helper.pxi:7089\u001b[0m, in \u001b[0;36mpandas._libs.hashtable.PyObjectHashTable.get_item\u001b[0;34m()\u001b[0m\n",
      "\u001b[0;31mKeyError\u001b[0m: 'reverse_comp'",
      "\nThe above exception was the direct cause of the following exception:\n",
      "\u001b[0;31mKeyError\u001b[0m                                  Traceback (most recent call last)",
      "Cell \u001b[0;32mIn[25], line 9\u001b[0m\n\u001b[1;32m      6\u001b[0m mutation_rich \u001b[38;5;241m=\u001b[39m mutation_rich\u001b[38;5;241m.\u001b[39mmerge(reverse_pileup_subset, on\u001b[38;5;241m=\u001b[39m[\u001b[38;5;124m'\u001b[39m\u001b[38;5;124mpos\u001b[39m\u001b[38;5;124m'\u001b[39m, \u001b[38;5;124m'\u001b[39m\u001b[38;5;124mchrom\u001b[39m\u001b[38;5;124m'\u001b[39m], how\u001b[38;5;241m=\u001b[39m\u001b[38;5;124m'\u001b[39m\u001b[38;5;124mleft\u001b[39m\u001b[38;5;124m'\u001b[39m)\n\u001b[1;32m      8\u001b[0m \u001b[38;5;66;03m# Fill NaN values in reverse_comp with 0 (since merge will produce NaN where there is no match)\u001b[39;00m\n\u001b[0;32m----> 9\u001b[0m mutation_rich[\u001b[38;5;124m'\u001b[39m\u001b[38;5;124mreverse_comp\u001b[39m\u001b[38;5;124m'\u001b[39m] \u001b[38;5;241m=\u001b[39m \u001b[43mmutation_rich\u001b[49m\u001b[43m[\u001b[49m\u001b[38;5;124;43m'\u001b[39;49m\u001b[38;5;124;43mreverse_comp\u001b[39;49m\u001b[38;5;124;43m'\u001b[39;49m\u001b[43m]\u001b[49m\u001b[38;5;241m.\u001b[39mfillna(\u001b[38;5;241m0\u001b[39m)\u001b[38;5;241m.\u001b[39mastype(\u001b[38;5;28mint\u001b[39m)\n",
      "File \u001b[0;32m~/conda/envs/bioinfo/lib/python3.12/site-packages/pandas/core/frame.py:4102\u001b[0m, in \u001b[0;36mDataFrame.__getitem__\u001b[0;34m(self, key)\u001b[0m\n\u001b[1;32m   4100\u001b[0m \u001b[38;5;28;01mif\u001b[39;00m \u001b[38;5;28mself\u001b[39m\u001b[38;5;241m.\u001b[39mcolumns\u001b[38;5;241m.\u001b[39mnlevels \u001b[38;5;241m>\u001b[39m \u001b[38;5;241m1\u001b[39m:\n\u001b[1;32m   4101\u001b[0m     \u001b[38;5;28;01mreturn\u001b[39;00m \u001b[38;5;28mself\u001b[39m\u001b[38;5;241m.\u001b[39m_getitem_multilevel(key)\n\u001b[0;32m-> 4102\u001b[0m indexer \u001b[38;5;241m=\u001b[39m \u001b[38;5;28;43mself\u001b[39;49m\u001b[38;5;241;43m.\u001b[39;49m\u001b[43mcolumns\u001b[49m\u001b[38;5;241;43m.\u001b[39;49m\u001b[43mget_loc\u001b[49m\u001b[43m(\u001b[49m\u001b[43mkey\u001b[49m\u001b[43m)\u001b[49m\n\u001b[1;32m   4103\u001b[0m \u001b[38;5;28;01mif\u001b[39;00m is_integer(indexer):\n\u001b[1;32m   4104\u001b[0m     indexer \u001b[38;5;241m=\u001b[39m [indexer]\n",
      "File \u001b[0;32m~/conda/envs/bioinfo/lib/python3.12/site-packages/pandas/core/indexes/base.py:3812\u001b[0m, in \u001b[0;36mIndex.get_loc\u001b[0;34m(self, key)\u001b[0m\n\u001b[1;32m   3807\u001b[0m     \u001b[38;5;28;01mif\u001b[39;00m \u001b[38;5;28misinstance\u001b[39m(casted_key, \u001b[38;5;28mslice\u001b[39m) \u001b[38;5;129;01mor\u001b[39;00m (\n\u001b[1;32m   3808\u001b[0m         \u001b[38;5;28misinstance\u001b[39m(casted_key, abc\u001b[38;5;241m.\u001b[39mIterable)\n\u001b[1;32m   3809\u001b[0m         \u001b[38;5;129;01mand\u001b[39;00m \u001b[38;5;28many\u001b[39m(\u001b[38;5;28misinstance\u001b[39m(x, \u001b[38;5;28mslice\u001b[39m) \u001b[38;5;28;01mfor\u001b[39;00m x \u001b[38;5;129;01min\u001b[39;00m casted_key)\n\u001b[1;32m   3810\u001b[0m     ):\n\u001b[1;32m   3811\u001b[0m         \u001b[38;5;28;01mraise\u001b[39;00m InvalidIndexError(key)\n\u001b[0;32m-> 3812\u001b[0m     \u001b[38;5;28;01mraise\u001b[39;00m \u001b[38;5;167;01mKeyError\u001b[39;00m(key) \u001b[38;5;28;01mfrom\u001b[39;00m \u001b[38;5;21;01merr\u001b[39;00m\n\u001b[1;32m   3813\u001b[0m \u001b[38;5;28;01mexcept\u001b[39;00m \u001b[38;5;167;01mTypeError\u001b[39;00m:\n\u001b[1;32m   3814\u001b[0m     \u001b[38;5;66;03m# If we have a listlike key, _check_indexing_error will raise\u001b[39;00m\n\u001b[1;32m   3815\u001b[0m     \u001b[38;5;66;03m#  InvalidIndexError. Otherwise we fall through and re-raise\u001b[39;00m\n\u001b[1;32m   3816\u001b[0m     \u001b[38;5;66;03m#  the TypeError.\u001b[39;00m\n\u001b[1;32m   3817\u001b[0m     \u001b[38;5;28mself\u001b[39m\u001b[38;5;241m.\u001b[39m_check_indexing_error(key)\n",
      "\u001b[0;31mKeyError\u001b[0m: 'reverse_comp'"
     ]
    }
   ],
   "source": [
    "# Ensure reverse_pileup has necessary columns for merging\n",
    "reverse_pileup_subset = reverse_pileup[['pos', 'chrom']].copy()\n",
    "reverse_pileup_subset['reverse_comp'] = 1\n",
    "\n",
    "# Merge mutation_rich with reverse_pileup to find matching positions and chromosomes\n",
    "mutation_rich = mutation_rich.merge(reverse_pileup_subset, on=['pos', 'chrom'], how='left')\n",
    "\n",
    "# Fill NaN values in reverse_comp with 0 (since merge will produce NaN where there is no match)\n",
    "mutation_rich['reverse_comp'] = mutation_rich['reverse_comp'].fillna(0).astype(int)"
   ]
  },
  {
   "cell_type": "code",
   "execution_count": 4,
   "metadata": {},
   "outputs": [],
   "source": [
    "mut_rich_with_reverse = pd.read_csv('Seojin_Termproj/CLIP-35L33G_with_Shannon_mutation_rich_reverse_comp_added.pileup', sep='\\t')"
   ]
  },
  {
   "cell_type": "code",
   "execution_count": 10,
   "metadata": {},
   "outputs": [
    {
     "data": {
      "text/plain": [
       "True"
      ]
     },
     "execution_count": 10,
     "metadata": {},
     "output_type": "execute_result"
    }
   ],
   "source": [
    "len(mut_rich_with_reverse) == len(mutation_rich)"
   ]
  },
  {
   "cell_type": "markdown",
   "metadata": {},
   "source": [
    "- Make bed file to align the reads to genome. Always put strand information at 6th column for the bedtools getfasta to correctly interprete the data"
   ]
  },
  {
   "cell_type": "code",
   "execution_count": 7,
   "metadata": {},
   "outputs": [],
   "source": [
    "with open('Seojin_Termproj/CLIP-35L33G_mutation_rich.bed', 'w') as f:\n",
    "    # f.write(f'chrom\\tstart\\tend\\tstrand\\n')\n",
    "    for row in mut_rich_with_reverse.itertuples():\n",
    "        f.write(f'{row.chrom}\\t{row.pos-6}\\t{row.pos+5}\\t{\"gene\"}\\t{\"0\"}\\t{\"-\" if row.reverse_comp == 1 else \"+\"}\\n')"
   ]
  },
  {
   "cell_type": "code",
   "execution_count": null,
   "metadata": {},
   "outputs": [],
   "source": [
    "#G not extracted\n",
    "%bedtools getfasta -s -fi GRCm39.primary_assembly.genome.fa -bed CLIP-35L33G_mutation_rich.bed -fo CLIP-35L33G_mutation_rich_sequences_reverse.fa\n",
    "%sed '/^>/d' CLIP-35L33G_mutation_rich_sequences_reverse.fa | sed 's/T/U/g' > CLIP-35L33G_mutation_rich_sequences_without_name_with_G_6left_5right_reverse_TtoU_G_not_extracted.txt \n",
    "#G extracted\n",
    "%sed '/^>/d' CLIP-35L33G_mutation_rich_sequences_reverse.fa |  grep -E '^.{5}G' > CLIP-35L33G_mutation_rich_sequences_without_name_with_G_6left_5right_reverse.txt \n",
    "%sed 's/T/U/g' CLIP-35L33G_mutation_rich_sequences_without_name_with_G_6left_5right_reverse.txt > CLIP-35L33G_mutation_rich_sequences_without_name_with_G_6left_5right_reverse_TtoU.txt "
   ]
  },
  {
   "cell_type": "markdown",
   "metadata": {},
   "source": [
    "https://weblogo.threeplusone.com\n",
    "\n",
    "Used above weblogo site(WebLogo 3>Create your own logos) to create weblogo image for Figure2A in the article. I uploaded  \n",
    "CLIP-35L33G_mutation_rich_sequences_without_name_with_G_6left_5right_TtoU.txt  \n",
    "file to the sequence data input of the WebLogo site. \n",
    "\n",
    "Option \n",
    "- First position number: -5\n",
    "- Color scheme: Classic (NA)\n",
    "- Units: bits, probability\n",
    "- Version fineprint: off\n",
    "- Error bar: off\n",
    "\n",
    "\n",
    "I manually merged the two figures bits and probabilty in the powerpoint slide. "
   ]
  },
  {
   "cell_type": "markdown",
   "metadata": {},
   "source": [
    "(Fig 2B, 2D) Sort LIN28A binding hexamer and flanking sequence by frequency"
   ]
  },
  {
   "cell_type": "code",
   "execution_count": null,
   "metadata": {},
   "outputs": [],
   "source": [
    "# This part is done for first trial(not considering reverse complement for - strand)\n",
    "!awk '{count[substr($0, 4, 6)]++} END {for (seq in count) {print seq, count[seq]}}' CLIP-35L33G_mutation_rich_sequences_without_name_with_G_6left_5right_TtoU.txt | sort -k2 -rn | awk '{a[FNR]=$0; sum+=$2} END {for (i=1; i<=FNR; i++) {split(a[i], b, \" \"); print b[1], b[2], (b[2]/sum)*100}}' > top_LIN28A_interacting_hexamer.txt"
   ]
  },
  {
   "cell_type": "code",
   "execution_count": null,
   "metadata": {},
   "outputs": [],
   "source": [
    "# Final version: considering reverse complement for - strand\n",
    "!awk '{count[substr($0, 4, 6)]++} END {for (seq in count) {print seq, count[seq]}}' CLIP-35L33G_mutation_rich_sequences_without_name_with_G_6left_5right_reverse_TtoU.txt  | sort -k2 -rn | awk '{a[FNR]=$0; sum+=$2} END {for (i=1; i<=FNR; i++) {split(a[i], b, \" \"); print b[1], b[2], (b[2]/sum)*100}}' > reverse_LIN28A_interacting_hexamer.txt"
   ]
  },
  {
   "cell_type": "code",
   "execution_count": 3,
   "metadata": {},
   "outputs": [],
   "source": [
    "# Round function to draw Fig 2B, 2D in neat way\n",
    "from decimal import Decimal, ROUND_HALF_UP, ROUND_HALF_EVEN\n",
    "import pandas as pd\n",
    "def my_round(in_number, ndigits=0, rounding_rule=1):\n",
    "    \"\"\"rounding_rule==1: ROUND_HALF_UP, Round to nearest, ties away from zero\n",
    "       rounding_rule==2: ROUND_HALF_EVEN, Round to nearest, ties to even \"\"\"\n",
    "    # make float expression\n",
    "    if ndigits > 0:\n",
    "        expression = '0.' + '0'*ndigits\n",
    "        number = in_number\n",
    "    else: # 0 or negative\n",
    "        expression = '0'\n",
    "        number = in_number / (10**(-ndigits))\n",
    "    \n",
    "    # round by rounding rule\n",
    "    if rounding_rule == 2:\n",
    "        round_number = Decimal(number).quantize(Decimal(expression), rounding=ROUND_HALF_EVEN)\n",
    "    else:\n",
    "        round_number = Decimal(number).quantize(Decimal(expression), rounding=ROUND_HALF_UP)\n",
    "    \n",
    "    # return number\n",
    "    if ndigits > 0:\n",
    "        return float(round_number)\n",
    "    else: # 0 or negative\n",
    "        return int(round_number * (10**(-ndigits)))"
   ]
  },
  {
   "cell_type": "code",
   "execution_count": 4,
   "metadata": {},
   "outputs": [],
   "source": [
    "# not consider reverse complement for - strand\n",
    "lin28a_interacting_hexamer = pd.read_csv(\"/rna/seojin/proj/bioinformatics/bioinfo_term_proj/binfo1-work/Seojin_Termproj/top_LIN28A_interacting_hexamer.txt\", sep=\" \", names=[\"Sequence\", \"Count\", \"Frequency (%)\"])"
   ]
  },
  {
   "cell_type": "code",
   "execution_count": 9,
   "metadata": {},
   "outputs": [],
   "source": [
    "# Final version:consider reverse complement for - strand\n",
    "rev_lin28a_interacting_hexamer = pd.read_csv(\"/rna/seojin/proj/bioinformatics/bioinfo_term_proj/binfo1-work/Seojin_Termproj/reverse_LIN28A_interacting_hexamer.txt\", sep=\" \", names=[\"Sequence\", \"Count\", \"Frequency (%)\"])"
   ]
  },
  {
   "cell_type": "code",
   "execution_count": 16,
   "metadata": {},
   "outputs": [],
   "source": [
    "for row in lin28a_interacting_hexamer.itertuples():\n",
    "    lin28a_interacting_hexamer.at[row.Index, 'Frequency (%)'] = my_round(row._3, 2)"
   ]
  },
  {
   "cell_type": "code",
   "execution_count": 10,
   "metadata": {},
   "outputs": [],
   "source": [
    "for row in rev_lin28a_interacting_hexamer.itertuples():\n",
    "    rev_lin28a_interacting_hexamer.at[row.Index, 'Frequency (%)'] = my_round(row._3, 2)"
   ]
  },
  {
   "cell_type": "code",
   "execution_count": 22,
   "metadata": {},
   "outputs": [
    {
     "data": {
      "text/html": [
       "<div>\n",
       "<style scoped>\n",
       "    .dataframe tbody tr th:only-of-type {\n",
       "        vertical-align: middle;\n",
       "    }\n",
       "\n",
       "    .dataframe tbody tr th {\n",
       "        vertical-align: top;\n",
       "    }\n",
       "\n",
       "    .dataframe thead th {\n",
       "        text-align: right;\n",
       "    }\n",
       "</style>\n",
       "<table border=\"1\" class=\"dataframe\">\n",
       "  <thead>\n",
       "    <tr style=\"text-align: right;\">\n",
       "      <th></th>\n",
       "      <th>Sequence</th>\n",
       "      <th>Frequency (%)</th>\n",
       "    </tr>\n",
       "  </thead>\n",
       "  <tbody>\n",
       "    <tr>\n",
       "      <th>0</th>\n",
       "      <td>AAGGAG</td>\n",
       "      <td>2.29</td>\n",
       "    </tr>\n",
       "    <tr>\n",
       "      <th>1</th>\n",
       "      <td>AAGAAG</td>\n",
       "      <td>1.68</td>\n",
       "    </tr>\n",
       "    <tr>\n",
       "      <th>2</th>\n",
       "      <td>AAGAGA</td>\n",
       "      <td>1.39</td>\n",
       "    </tr>\n",
       "    <tr>\n",
       "      <th>3</th>\n",
       "      <td>GAGGAG</td>\n",
       "      <td>1.35</td>\n",
       "    </tr>\n",
       "    <tr>\n",
       "      <th>4</th>\n",
       "      <td>AAGAGG</td>\n",
       "      <td>1.17</td>\n",
       "    </tr>\n",
       "    <tr>\n",
       "      <th>5</th>\n",
       "      <td>AAGGUG</td>\n",
       "      <td>1.15</td>\n",
       "    </tr>\n",
       "    <tr>\n",
       "      <th>6</th>\n",
       "      <td>GAGAGA</td>\n",
       "      <td>0.89</td>\n",
       "    </tr>\n",
       "    <tr>\n",
       "      <th>7</th>\n",
       "      <td>AAGAAA</td>\n",
       "      <td>0.86</td>\n",
       "    </tr>\n",
       "    <tr>\n",
       "      <th>8</th>\n",
       "      <td>UGGAGA</td>\n",
       "      <td>0.84</td>\n",
       "    </tr>\n",
       "    <tr>\n",
       "      <th>9</th>\n",
       "      <td>GAGAAG</td>\n",
       "      <td>0.83</td>\n",
       "    </tr>\n",
       "  </tbody>\n",
       "</table>\n",
       "</div>"
      ],
      "text/plain": [
       "  Sequence  Frequency (%)\n",
       "0   AAGGAG           2.29\n",
       "1   AAGAAG           1.68\n",
       "2   AAGAGA           1.39\n",
       "3   GAGGAG           1.35\n",
       "4   AAGAGG           1.17\n",
       "5   AAGGUG           1.15\n",
       "6   GAGAGA           0.89\n",
       "7   AAGAAA           0.86\n",
       "8   UGGAGA           0.84\n",
       "9   GAGAAG           0.83"
      ]
     },
     "execution_count": 22,
     "metadata": {},
     "output_type": "execute_result"
    }
   ],
   "source": [
    "# print only Sequence and Frequency columns\n",
    "lin28a_interacting_hexamer[['Sequence', 'Frequency (%)']].head(10)\n",
    "\n",
    "# Save this to table without index\n",
    "lin28a_interacting_hexamer[['Sequence', 'Frequency (%)']].head(10).to_csv('Seojin_Termproj/top10_LIN28A_interacting_hexamer.txt', sep=' ', index=False)"
   ]
  },
  {
   "cell_type": "code",
   "execution_count": 12,
   "metadata": {},
   "outputs": [
    {
     "data": {
      "text/html": [
       "<div>\n",
       "<style scoped>\n",
       "    .dataframe tbody tr th:only-of-type {\n",
       "        vertical-align: middle;\n",
       "    }\n",
       "\n",
       "    .dataframe tbody tr th {\n",
       "        vertical-align: top;\n",
       "    }\n",
       "\n",
       "    .dataframe thead th {\n",
       "        text-align: right;\n",
       "    }\n",
       "</style>\n",
       "<table border=\"1\" class=\"dataframe\">\n",
       "  <thead>\n",
       "    <tr style=\"text-align: right;\">\n",
       "      <th></th>\n",
       "      <th>Sequence</th>\n",
       "      <th>Frequency (%)</th>\n",
       "    </tr>\n",
       "  </thead>\n",
       "  <tbody>\n",
       "    <tr>\n",
       "      <th>0</th>\n",
       "      <td>AAGGAG</td>\n",
       "      <td>1.96</td>\n",
       "    </tr>\n",
       "    <tr>\n",
       "      <th>1</th>\n",
       "      <td>AAGAAG</td>\n",
       "      <td>1.66</td>\n",
       "    </tr>\n",
       "    <tr>\n",
       "      <th>2</th>\n",
       "      <td>AAGAGA</td>\n",
       "      <td>1.42</td>\n",
       "    </tr>\n",
       "    <tr>\n",
       "      <th>3</th>\n",
       "      <td>GAGGAG</td>\n",
       "      <td>1.27</td>\n",
       "    </tr>\n",
       "    <tr>\n",
       "      <th>4</th>\n",
       "      <td>AAGAGG</td>\n",
       "      <td>1.14</td>\n",
       "    </tr>\n",
       "    <tr>\n",
       "      <th>5</th>\n",
       "      <td>AAGGUG</td>\n",
       "      <td>1.06</td>\n",
       "    </tr>\n",
       "    <tr>\n",
       "      <th>6</th>\n",
       "      <td>UGGAGA</td>\n",
       "      <td>1.02</td>\n",
       "    </tr>\n",
       "    <tr>\n",
       "      <th>7</th>\n",
       "      <td>AGGAGA</td>\n",
       "      <td>0.93</td>\n",
       "    </tr>\n",
       "    <tr>\n",
       "      <th>8</th>\n",
       "      <td>AAGAUG</td>\n",
       "      <td>0.91</td>\n",
       "    </tr>\n",
       "    <tr>\n",
       "      <th>9</th>\n",
       "      <td>GAGAAG</td>\n",
       "      <td>0.81</td>\n",
       "    </tr>\n",
       "  </tbody>\n",
       "</table>\n",
       "</div>"
      ],
      "text/plain": [
       "  Sequence  Frequency (%)\n",
       "0   AAGGAG           1.96\n",
       "1   AAGAAG           1.66\n",
       "2   AAGAGA           1.42\n",
       "3   GAGGAG           1.27\n",
       "4   AAGAGG           1.14\n",
       "5   AAGGUG           1.06\n",
       "6   UGGAGA           1.02\n",
       "7   AGGAGA           0.93\n",
       "8   AAGAUG           0.91\n",
       "9   GAGAAG           0.81"
      ]
     },
     "execution_count": 12,
     "metadata": {},
     "output_type": "execute_result"
    }
   ],
   "source": [
    "rev_lin28a_interacting_hexamer[['Sequence', 'Frequency (%)']].head(10)\n",
    "# rev_lin28a_interacting_hexamer[['Sequence', 'Frequency (%)']].head(10).to_csv('Seojin_Termproj/reverse_top10_LIN28A_interacting_hexamer.txt', sep=' ', index=False)"
   ]
  },
  {
   "cell_type": "markdown",
   "metadata": {},
   "source": [
    "I made table on powerpoint using the above data"
   ]
  },
  {
   "cell_type": "markdown",
   "metadata": {},
   "source": [
    "For sequence flanking hexamer binding to LIN28A, I used below code"
   ]
  },
  {
   "cell_type": "code",
   "execution_count": null,
   "metadata": {},
   "outputs": [],
   "source": [
    "%awk '{count[substr($0, 2, 2)\"......\"substr($0, 10, 2)]++} END {for (seq in count) {print seq, count[seq]}}' CLIP-35L33G_mutation_rich_sequences_without_name_with_G_6left_5right_TtoU.txt | sort -k2 -rn | awk '{a[FNR]=$0; sum+=$2} END {for (i=1; i<=FNR; i++) {split(a[i], b, \" \"); print b[1], b[2], (b[2]/sum)*100}}' > top_LIN28A_flanking_hexamer.txt    "
   ]
  },
  {
   "cell_type": "code",
   "execution_count": 25,
   "metadata": {},
   "outputs": [],
   "source": [
    "lin28a_flanking = pd.read_csv(\"/rna/seojin/proj/bioinformatics/bioinfo_term_proj/binfo1-work/Seojin_Termproj/top_LIN28A_flanking_hexamer.txt\", sep=\" \", names=[\"Sequence\", \"Count\", \"Frequency (%)\"])"
   ]
  },
  {
   "cell_type": "code",
   "execution_count": 26,
   "metadata": {},
   "outputs": [],
   "source": [
    "for row in lin28a_flanking.itertuples():\n",
    "    lin28a_flanking.at[row.Index, 'Frequency (%)'] = my_round(row._3, 2)"
   ]
  },
  {
   "cell_type": "code",
   "execution_count": 28,
   "metadata": {},
   "outputs": [
    {
     "data": {
      "text/html": [
       "<div>\n",
       "<style scoped>\n",
       "    .dataframe tbody tr th:only-of-type {\n",
       "        vertical-align: middle;\n",
       "    }\n",
       "\n",
       "    .dataframe tbody tr th {\n",
       "        vertical-align: top;\n",
       "    }\n",
       "\n",
       "    .dataframe thead th {\n",
       "        text-align: right;\n",
       "    }\n",
       "</style>\n",
       "<table border=\"1\" class=\"dataframe\">\n",
       "  <thead>\n",
       "    <tr style=\"text-align: right;\">\n",
       "      <th></th>\n",
       "      <th>Sequence</th>\n",
       "      <th>Frequency (%)</th>\n",
       "    </tr>\n",
       "  </thead>\n",
       "  <tbody>\n",
       "    <tr>\n",
       "      <th>0</th>\n",
       "      <td>CA......UG</td>\n",
       "      <td>1.41</td>\n",
       "    </tr>\n",
       "    <tr>\n",
       "      <th>1</th>\n",
       "      <td>CC......GG</td>\n",
       "      <td>1.19</td>\n",
       "    </tr>\n",
       "    <tr>\n",
       "      <th>2</th>\n",
       "      <td>CU......AG</td>\n",
       "      <td>1.00</td>\n",
       "    </tr>\n",
       "    <tr>\n",
       "      <th>3</th>\n",
       "      <td>GG......CC</td>\n",
       "      <td>0.97</td>\n",
       "    </tr>\n",
       "    <tr>\n",
       "      <th>4</th>\n",
       "      <td>GA......UG</td>\n",
       "      <td>0.95</td>\n",
       "    </tr>\n",
       "    <tr>\n",
       "      <th>5</th>\n",
       "      <td>AA......AA</td>\n",
       "      <td>0.91</td>\n",
       "    </tr>\n",
       "    <tr>\n",
       "      <th>6</th>\n",
       "      <td>AG......CU</td>\n",
       "      <td>0.91</td>\n",
       "    </tr>\n",
       "    <tr>\n",
       "      <th>7</th>\n",
       "      <td>UU......AA</td>\n",
       "      <td>0.88</td>\n",
       "    </tr>\n",
       "    <tr>\n",
       "      <th>8</th>\n",
       "      <td>AA......UU</td>\n",
       "      <td>0.87</td>\n",
       "    </tr>\n",
       "    <tr>\n",
       "      <th>9</th>\n",
       "      <td>UC......GA</td>\n",
       "      <td>0.84</td>\n",
       "    </tr>\n",
       "  </tbody>\n",
       "</table>\n",
       "</div>"
      ],
      "text/plain": [
       "     Sequence  Frequency (%)\n",
       "0  CA......UG           1.41\n",
       "1  CC......GG           1.19\n",
       "2  CU......AG           1.00\n",
       "3  GG......CC           0.97\n",
       "4  GA......UG           0.95\n",
       "5  AA......AA           0.91\n",
       "6  AG......CU           0.91\n",
       "7  UU......AA           0.88\n",
       "8  AA......UU           0.87\n",
       "9  UC......GA           0.84"
      ]
     },
     "execution_count": 28,
     "metadata": {},
     "output_type": "execute_result"
    }
   ],
   "source": [
    "lin28a_flanking[['Sequence', 'Frequency (%)']].head(10)\n",
    "lin28a_flanking[['Sequence', 'Frequency (%)']].head(10).to_csv('Seojin_Termproj/top10_LIN28A_flanking.txt', sep=' ', index=False)"
   ]
  },
  {
   "cell_type": "markdown",
   "metadata": {},
   "source": [
    "(Fig 2C) Draw similarity network of LIN28A-bound enriched hexamers"
   ]
  },
  {
   "cell_type": "markdown",
   "metadata": {},
   "source": [
    "To normalize the kmer with the frequency of occurence in reference genome data. I used jellyfish to count the k-mer(in this case, hexamer) in the Reference."
   ]
  },
  {
   "cell_type": "code",
   "execution_count": null,
   "metadata": {},
   "outputs": [],
   "source": [
    "# I chose transcipt data from \n",
    "!wget https://ftp.ebi.ac.uk/pub/databases/gencode/Gencode_mouse/release_M35/gencode.vM35.transcripts.fa.gz\n",
    "!gunzip gencode.vM35.transcripts.fa.gz"
   ]
  },
  {
   "cell_type": "code",
   "execution_count": null,
   "metadata": {},
   "outputs": [],
   "source": [
    "!jellyfish count -m 6 -s 100M -t 10 gencode.vM35.transcripts.fa\n",
    "!jellyfish dump mer_counts.jf > mer_counts_dumps.fa "
   ]
  },
  {
   "cell_type": "code",
   "execution_count": null,
   "metadata": {},
   "outputs": [],
   "source": [
    "%mamba install biopython"
   ]
  },
  {
   "cell_type": "code",
   "execution_count": 32,
   "metadata": {},
   "outputs": [],
   "source": [
    "from Bio import SeqIO"
   ]
  },
  {
   "cell_type": "markdown",
   "metadata": {},
   "source": [
    "Using jellyfish k-mer counting tool, I counted the frequency of all possible hexamers in the transcriptome data."
   ]
  },
  {
   "cell_type": "code",
   "execution_count": 257,
   "metadata": {},
   "outputs": [],
   "source": [
    "s = 0\n",
    "with open('Seojin_Termproj/mer_counts_dumps_frequency.fa', 'w') as write_file:\n",
    "    with open('Seojin_Termproj/mer_counts_dumps.fa') as f:\n",
    "        records = list(SeqIO.parse(f, \"fasta\"))\n",
    "        for record in records:\n",
    "            s += int(record.id)\n",
    "        write_file.write(f'Sequences\\tCounts\\tFrequency (%)\\n')\n",
    "        for record in records:\n",
    "            write_file.write(f'{record.seq}\\t{int(record.id)}\\t{int(record.id)/s*100}\\n')\n"
   ]
  },
  {
   "cell_type": "code",
   "execution_count": 96,
   "metadata": {},
   "outputs": [
    {
     "name": "stderr",
     "output_type": "stream",
     "text": [
      "UsageError: Line magic function `%sort` not found.\n"
     ]
    }
   ],
   "source": [
    "# Use this to see the hexamer trend in the transcipt, not really needed to calculate the FC of hexamer frequency\n",
    "!sort -nr -k2,2 mer_counts_dumps_frequency.fa > mer_counts_dumps_frequency_sorted.fa "
   ]
  },
  {
   "cell_type": "code",
   "execution_count": 65,
   "metadata": {},
   "outputs": [],
   "source": [
    "lin28a_hexamer = pd.read_csv(\"Seojin_Termproj/top_LIN28A_interacting_hexamer.txt\", sep=\" \", names=[\"Sequence\", \"Count\", \"Frequency (%)\"])\n",
    "jellyfish_count = pd.read_csv(\"Seojin_Termproj/mer_counts_dumps_frequency_sorted.fa\", sep=\"\\t\", names=[\"Sequence\", \"Count\", \"Frequency (%)\"])"
   ]
  },
  {
   "cell_type": "code",
   "execution_count": 259,
   "metadata": {},
   "outputs": [],
   "source": [
    "for row in lin28a_hexamer.itertuples():\n",
    "    genome_freq = float(jellyfish_count[jellyfish_count['Sequence'] == row.Sequence.replace('U', 'T')]['Frequency (%)'].values[0])\n",
    "    lin28a_hexamer.at[row.Index, 'GRCm39 Genome Frequency (%)'] = genome_freq\n",
    "    lin28a_hexamer.at[row.Index, 'Motif Enrichment (fold)'] = row._3 / genome_freq\n"
   ]
  },
  {
   "cell_type": "code",
   "execution_count": 260,
   "metadata": {},
   "outputs": [],
   "source": [
    "# sort by Motif Enrichment (fold) in descending order\n",
    "lin28a_hexamer.sort_values(by='Motif Enrichment (fold)', ascending=False, inplace=True)"
   ]
  },
  {
   "cell_type": "code",
   "execution_count": 261,
   "metadata": {},
   "outputs": [
    {
     "data": {
      "text/html": [
       "<div>\n",
       "<style scoped>\n",
       "    .dataframe tbody tr th:only-of-type {\n",
       "        vertical-align: middle;\n",
       "    }\n",
       "\n",
       "    .dataframe tbody tr th {\n",
       "        vertical-align: top;\n",
       "    }\n",
       "\n",
       "    .dataframe thead th {\n",
       "        text-align: right;\n",
       "    }\n",
       "</style>\n",
       "<table border=\"1\" class=\"dataframe\">\n",
       "  <thead>\n",
       "    <tr style=\"text-align: right;\">\n",
       "      <th></th>\n",
       "      <th>Sequence</th>\n",
       "      <th>Count</th>\n",
       "      <th>Frequency (%)</th>\n",
       "      <th>GRCm39 Genome Frequency (%)</th>\n",
       "      <th>Motif Enrichment (fold)</th>\n",
       "    </tr>\n",
       "  </thead>\n",
       "  <tbody>\n",
       "    <tr>\n",
       "      <th>0</th>\n",
       "      <td>AAGGAG</td>\n",
       "      <td>573</td>\n",
       "      <td>2.287240</td>\n",
       "      <td>0.062982</td>\n",
       "      <td>36.315782</td>\n",
       "    </tr>\n",
       "    <tr>\n",
       "      <th>5</th>\n",
       "      <td>AAGGUG</td>\n",
       "      <td>289</td>\n",
       "      <td>1.153600</td>\n",
       "      <td>0.037752</td>\n",
       "      <td>30.557446</td>\n",
       "    </tr>\n",
       "    <tr>\n",
       "      <th>108</th>\n",
       "      <td>AAGGCG</td>\n",
       "      <td>69</td>\n",
       "      <td>0.275427</td>\n",
       "      <td>0.011514</td>\n",
       "      <td>23.921640</td>\n",
       "    </tr>\n",
       "    <tr>\n",
       "      <th>2</th>\n",
       "      <td>AAGAGA</td>\n",
       "      <td>349</td>\n",
       "      <td>1.393100</td>\n",
       "      <td>0.060944</td>\n",
       "      <td>22.858535</td>\n",
       "    </tr>\n",
       "    <tr>\n",
       "      <th>4</th>\n",
       "      <td>AAGAGG</td>\n",
       "      <td>293</td>\n",
       "      <td>1.169570</td>\n",
       "      <td>0.053428</td>\n",
       "      <td>21.890471</td>\n",
       "    </tr>\n",
       "  </tbody>\n",
       "</table>\n",
       "</div>"
      ],
      "text/plain": [
       "    Sequence  Count  Frequency (%)  GRCm39 Genome Frequency (%)  \\\n",
       "0     AAGGAG    573       2.287240                     0.062982   \n",
       "5     AAGGUG    289       1.153600                     0.037752   \n",
       "108   AAGGCG     69       0.275427                     0.011514   \n",
       "2     AAGAGA    349       1.393100                     0.060944   \n",
       "4     AAGAGG    293       1.169570                     0.053428   \n",
       "\n",
       "     Motif Enrichment (fold)  \n",
       "0                  36.315782  \n",
       "5                  30.557446  \n",
       "108                23.921640  \n",
       "2                  22.858535  \n",
       "4                  21.890471  "
      ]
     },
     "execution_count": 261,
     "metadata": {},
     "output_type": "execute_result"
    }
   ],
   "source": [
    "lin28a_hexamer.head()"
   ]
  },
  {
   "cell_type": "code",
   "execution_count": 262,
   "metadata": {},
   "outputs": [],
   "source": [
    "lin28a_hexamer.to_csv('Seojin_Termproj/top_LIN28A_interacting_hexamer_FC_relative_to_RefSeq_transcript.txt', sep=' ', index=False)"
   ]
  },
  {
   "cell_type": "markdown",
   "metadata": {},
   "source": [
    "Figure2C"
   ]
  },
  {
   "cell_type": "code",
   "execution_count": null,
   "metadata": {},
   "outputs": [],
   "source": [
    "!mamba install networkx"
   ]
  },
  {
   "cell_type": "code",
   "execution_count": 14,
   "metadata": {},
   "outputs": [],
   "source": [
    "import networkx as nx"
   ]
  },
  {
   "cell_type": "code",
   "execution_count": 70,
   "metadata": {},
   "outputs": [],
   "source": [
    "lin28a_hexamer = pd.read_csv('Seojin_Termproj/top_LIN28A_interacting_hexamer_FC_relative_to_RefSeq_transcript.txt', sep=' ')"
   ]
  },
  {
   "cell_type": "code",
   "execution_count": 71,
   "metadata": {},
   "outputs": [
    {
     "data": {
      "text/html": [
       "<div>\n",
       "<style scoped>\n",
       "    .dataframe tbody tr th:only-of-type {\n",
       "        vertical-align: middle;\n",
       "    }\n",
       "\n",
       "    .dataframe tbody tr th {\n",
       "        vertical-align: top;\n",
       "    }\n",
       "\n",
       "    .dataframe thead th {\n",
       "        text-align: right;\n",
       "    }\n",
       "</style>\n",
       "<table border=\"1\" class=\"dataframe\">\n",
       "  <thead>\n",
       "    <tr style=\"text-align: right;\">\n",
       "      <th></th>\n",
       "      <th>Sequence</th>\n",
       "      <th>Count</th>\n",
       "      <th>Frequency (%)</th>\n",
       "      <th>GRCm39 Genome Frequency (%)</th>\n",
       "      <th>Motif Enrichment (fold)</th>\n",
       "    </tr>\n",
       "  </thead>\n",
       "  <tbody>\n",
       "    <tr>\n",
       "      <th>0</th>\n",
       "      <td>AAGGAG</td>\n",
       "      <td>573</td>\n",
       "      <td>2.287240</td>\n",
       "      <td>0.062982</td>\n",
       "      <td>36.315782</td>\n",
       "    </tr>\n",
       "    <tr>\n",
       "      <th>1</th>\n",
       "      <td>AAGGUG</td>\n",
       "      <td>289</td>\n",
       "      <td>1.153600</td>\n",
       "      <td>0.037752</td>\n",
       "      <td>30.557446</td>\n",
       "    </tr>\n",
       "    <tr>\n",
       "      <th>2</th>\n",
       "      <td>AAGGCG</td>\n",
       "      <td>69</td>\n",
       "      <td>0.275427</td>\n",
       "      <td>0.011514</td>\n",
       "      <td>23.921640</td>\n",
       "    </tr>\n",
       "    <tr>\n",
       "      <th>3</th>\n",
       "      <td>AAGAGA</td>\n",
       "      <td>349</td>\n",
       "      <td>1.393100</td>\n",
       "      <td>0.060944</td>\n",
       "      <td>22.858535</td>\n",
       "    </tr>\n",
       "    <tr>\n",
       "      <th>4</th>\n",
       "      <td>AAGAGG</td>\n",
       "      <td>293</td>\n",
       "      <td>1.169570</td>\n",
       "      <td>0.053428</td>\n",
       "      <td>21.890471</td>\n",
       "    </tr>\n",
       "  </tbody>\n",
       "</table>\n",
       "</div>"
      ],
      "text/plain": [
       "  Sequence  Count  Frequency (%)  GRCm39 Genome Frequency (%)  \\\n",
       "0   AAGGAG    573       2.287240                     0.062982   \n",
       "1   AAGGUG    289       1.153600                     0.037752   \n",
       "2   AAGGCG     69       0.275427                     0.011514   \n",
       "3   AAGAGA    349       1.393100                     0.060944   \n",
       "4   AAGAGG    293       1.169570                     0.053428   \n",
       "\n",
       "   Motif Enrichment (fold)  \n",
       "0                36.315782  \n",
       "1                30.557446  \n",
       "2                23.921640  \n",
       "3                22.858535  \n",
       "4                21.890471  "
      ]
     },
     "execution_count": 71,
     "metadata": {},
     "output_type": "execute_result"
    }
   ],
   "source": [
    "lin28a_hexamer.head()\n"
   ]
  },
  {
   "cell_type": "code",
   "execution_count": 64,
   "metadata": {},
   "outputs": [
    {
     "data": {
      "text/plain": [
       "25052"
      ]
     },
     "execution_count": 64,
     "metadata": {},
     "output_type": "execute_result"
    }
   ],
   "source": [
    "# sum count\n",
    "sum_count = lin28a_hexamer['Count'].sum()\n",
    "sum_count"
   ]
  },
  {
   "cell_type": "code",
   "execution_count": 81,
   "metadata": {},
   "outputs": [
    {
     "name": "stdout",
     "output_type": "stream",
     "text": [
      "100.00000486\n",
      "23.98807545780666\n"
     ]
    }
   ],
   "source": [
    "sum_percent = lin28a_hexamer['Frequency (%)'].sum()\n",
    "# sum_genome_percent = jellyfish_count['Frequency (%)'].sum()\n",
    "print(sum_percent)\n",
    "sum_genome_percent = lin28a_hexamer['GRCm39 Genome Frequency (%)'].sum() # hexamer from CLIP is 1/4 seen in genome\n",
    "print(sum_genome_percent)"
   ]
  },
  {
   "cell_type": "code",
   "execution_count": 87,
   "metadata": {},
   "outputs": [],
   "source": [
    "# Use this to select enriched hexamers to draw the network\n",
    "import scipy.stats as stats\n",
    "import math\n",
    "\n",
    "def Fisher_Exact_Test(p1, p2, n1=25052, n2=250101677):\n",
    "\n",
    "    \"\"\" Fisher's exact test \n",
    "    a: number of specific hexamers in population 1 (LIN28A binding sites)\n",
    "    b: number of other hexamers in population 1(background)\n",
    "    c: number of specific hexamers in population 2\n",
    "    d: number of other hexamers in population 2\n",
    "    \"\"\"\n",
    "    a = math.ceil(p1 * n1) # p1 = a/a+b = a/n1\n",
    "    b = n1 - a\n",
    "    c = math.ceil(p2 * n2) # p2 = c/c+d = c/n2\n",
    "    d = n2 - c\n",
    "\n",
    "    oddsratio, pvalue = stats.fisher_exact([[a, b], [c, d]], alternative='greater')\n",
    "    return oddsratio, pvalue"
   ]
  },
  {
   "cell_type": "code",
   "execution_count": 94,
   "metadata": {},
   "outputs": [],
   "source": [
    "for row in lin28a_hexamer.itertuples():\n",
    "    oddsratio, pvalue = Fisher_Exact_Test(float(row._3)/100, float(row._4)/100)\n",
    "    lin28a_hexamer.at[row.Index, 'Odds Ratio'] = oddsratio\n",
    "    lin28a_hexamer.at[row.Index, 'p-value'] = pvalue"
   ]
  },
  {
   "cell_type": "code",
   "execution_count": 96,
   "metadata": {},
   "outputs": [
    {
     "data": {
      "text/html": [
       "<div>\n",
       "<style scoped>\n",
       "    .dataframe tbody tr th:only-of-type {\n",
       "        vertical-align: middle;\n",
       "    }\n",
       "\n",
       "    .dataframe tbody tr th {\n",
       "        vertical-align: top;\n",
       "    }\n",
       "\n",
       "    .dataframe thead th {\n",
       "        text-align: right;\n",
       "    }\n",
       "</style>\n",
       "<table border=\"1\" class=\"dataframe\">\n",
       "  <thead>\n",
       "    <tr style=\"text-align: right;\">\n",
       "      <th></th>\n",
       "      <th>Sequence</th>\n",
       "      <th>Count</th>\n",
       "      <th>Frequency (%)</th>\n",
       "      <th>GRCm39 Genome Frequency (%)</th>\n",
       "      <th>Motif Enrichment (fold)</th>\n",
       "      <th>Odds Ratio</th>\n",
       "      <th>p-value</th>\n",
       "    </tr>\n",
       "  </thead>\n",
       "  <tbody>\n",
       "    <tr>\n",
       "      <th>372</th>\n",
       "      <td>UAGUCG</td>\n",
       "      <td>2</td>\n",
       "      <td>0.007983</td>\n",
       "      <td>0.002539</td>\n",
       "      <td>3.144840</td>\n",
       "      <td>3.145014</td>\n",
       "      <td>0.133918</td>\n",
       "    </tr>\n",
       "    <tr>\n",
       "      <th>385</th>\n",
       "      <td>ACGUCG</td>\n",
       "      <td>2</td>\n",
       "      <td>0.007983</td>\n",
       "      <td>0.002654</td>\n",
       "      <td>3.008376</td>\n",
       "      <td>3.008538</td>\n",
       "      <td>0.143708</td>\n",
       "    </tr>\n",
       "    <tr>\n",
       "      <th>406</th>\n",
       "      <td>GCGUAC</td>\n",
       "      <td>2</td>\n",
       "      <td>0.007983</td>\n",
       "      <td>0.002917</td>\n",
       "      <td>2.737024</td>\n",
       "      <td>2.737165</td>\n",
       "      <td>0.166589</td>\n",
       "    </tr>\n",
       "    <tr>\n",
       "      <th>421</th>\n",
       "      <td>UCGUCG</td>\n",
       "      <td>2</td>\n",
       "      <td>0.007983</td>\n",
       "      <td>0.003067</td>\n",
       "      <td>2.602867</td>\n",
       "      <td>2.602996</td>\n",
       "      <td>0.179929</td>\n",
       "    </tr>\n",
       "    <tr>\n",
       "      <th>424</th>\n",
       "      <td>UCGUAA</td>\n",
       "      <td>2</td>\n",
       "      <td>0.007983</td>\n",
       "      <td>0.003096</td>\n",
       "      <td>2.578664</td>\n",
       "      <td>2.578791</td>\n",
       "      <td>0.182502</td>\n",
       "    </tr>\n",
       "    <tr>\n",
       "      <th>...</th>\n",
       "      <td>...</td>\n",
       "      <td>...</td>\n",
       "      <td>...</td>\n",
       "      <td>...</td>\n",
       "      <td>...</td>\n",
       "      <td>...</td>\n",
       "      <td>...</td>\n",
       "    </tr>\n",
       "    <tr>\n",
       "      <th>975</th>\n",
       "      <td>GGGCUC</td>\n",
       "      <td>1</td>\n",
       "      <td>0.003992</td>\n",
       "      <td>0.032276</td>\n",
       "      <td>0.123674</td>\n",
       "      <td>0.247287</td>\n",
       "      <td>0.997205</td>\n",
       "    </tr>\n",
       "    <tr>\n",
       "      <th>976</th>\n",
       "      <td>UUGCCA</td>\n",
       "      <td>1</td>\n",
       "      <td>0.003992</td>\n",
       "      <td>0.033340</td>\n",
       "      <td>0.119728</td>\n",
       "      <td>0.239396</td>\n",
       "      <td>0.997796</td>\n",
       "    </tr>\n",
       "    <tr>\n",
       "      <th>977</th>\n",
       "      <td>GGGCCA</td>\n",
       "      <td>1</td>\n",
       "      <td>0.003992</td>\n",
       "      <td>0.033420</td>\n",
       "      <td>0.119442</td>\n",
       "      <td>0.238823</td>\n",
       "      <td>0.997835</td>\n",
       "    </tr>\n",
       "    <tr>\n",
       "      <th>978</th>\n",
       "      <td>AAGUCA</td>\n",
       "      <td>1</td>\n",
       "      <td>0.003992</td>\n",
       "      <td>0.033436</td>\n",
       "      <td>0.119382</td>\n",
       "      <td>0.238703</td>\n",
       "      <td>0.997843</td>\n",
       "    </tr>\n",
       "    <tr>\n",
       "      <th>979</th>\n",
       "      <td>AAGCCC</td>\n",
       "      <td>1</td>\n",
       "      <td>0.003992</td>\n",
       "      <td>0.035041</td>\n",
       "      <td>0.113914</td>\n",
       "      <td>0.227766</td>\n",
       "      <td>0.998496</td>\n",
       "    </tr>\n",
       "  </tbody>\n",
       "</table>\n",
       "<p>460 rows × 7 columns</p>\n",
       "</div>"
      ],
      "text/plain": [
       "    Sequence  Count  Frequency (%)  GRCm39 Genome Frequency (%)  \\\n",
       "372   UAGUCG      2       0.007983                     0.002539   \n",
       "385   ACGUCG      2       0.007983                     0.002654   \n",
       "406   GCGUAC      2       0.007983                     0.002917   \n",
       "421   UCGUCG      2       0.007983                     0.003067   \n",
       "424   UCGUAA      2       0.007983                     0.003096   \n",
       "..       ...    ...            ...                          ...   \n",
       "975   GGGCUC      1       0.003992                     0.032276   \n",
       "976   UUGCCA      1       0.003992                     0.033340   \n",
       "977   GGGCCA      1       0.003992                     0.033420   \n",
       "978   AAGUCA      1       0.003992                     0.033436   \n",
       "979   AAGCCC      1       0.003992                     0.035041   \n",
       "\n",
       "     Motif Enrichment (fold)  Odds Ratio   p-value  \n",
       "372                 3.144840    3.145014  0.133918  \n",
       "385                 3.008376    3.008538  0.143708  \n",
       "406                 2.737024    2.737165  0.166589  \n",
       "421                 2.602867    2.602996  0.179929  \n",
       "424                 2.578664    2.578791  0.182502  \n",
       "..                       ...         ...       ...  \n",
       "975                 0.123674    0.247287  0.997205  \n",
       "976                 0.119728    0.239396  0.997796  \n",
       "977                 0.119442    0.238823  0.997835  \n",
       "978                 0.119382    0.238703  0.997843  \n",
       "979                 0.113914    0.227766  0.998496  \n",
       "\n",
       "[460 rows x 7 columns]"
      ]
     },
     "execution_count": 96,
     "metadata": {},
     "output_type": "execute_result"
    }
   ],
   "source": [
    "lin28a_hexamer[lin28a_hexamer['p-value']>0.05]"
   ]
  },
  {
   "cell_type": "code",
   "execution_count": 275,
   "metadata": {},
   "outputs": [],
   "source": [
    "G = nx.Graph()\n",
    "# Used several criteria to select enriched hexamers but chose Fisher's exact test p-value < 1e-100 for final version\n",
    "#lin28a_hexamer['Count'].astype(float)>140\n",
    "# G.add_nodes_from(lin28a_hexamer[lin28a_hexamer['Motif Enrichment (fold)'].astype(float)>14.5]['Sequence'])\n",
    "G.add_nodes_from(lin28a_hexamer[lin28a_hexamer['p-value'].astype(float)<1e-100]['Sequence'])\n",
    "\n",
    "for node in G.nodes:\n",
    "    G.nodes[node]['Motif Enrichment (fold)'] = lin28a_hexamer[lin28a_hexamer['Sequence'] == node]['Motif Enrichment (fold)'].values[0].astype(float)\n"
   ]
  },
  {
   "cell_type": "code",
   "execution_count": 276,
   "metadata": {},
   "outputs": [],
   "source": [
    "# Use to draw edges for similarity network of LIN28A-bound hexamers\n",
    "def hamming_distance(seq1, seq2):\n",
    "    return sum(ch1 != ch2 for ch1, ch2 in zip(seq1, seq2))"
   ]
  },
  {
   "cell_type": "code",
   "execution_count": 277,
   "metadata": {},
   "outputs": [],
   "source": [
    "for node1 in G.nodes:\n",
    "    for node2 in G.nodes:\n",
    "        if hamming_distance(node1, node2) == 1:\n",
    "            G.add_edge(node1, node2)"
   ]
  },
  {
   "cell_type": "code",
   "execution_count": 278,
   "metadata": {},
   "outputs": [],
   "source": [
    "\"\"\" \n",
    "Written from copilot, Use this for multiple test correction\n",
    "however, the output network plot seems similar to the one without multiple test correction\n",
    "Use for FDR correction\n",
    "\"\"\"\n",
    "def benjamini_hochberg(p_values, alpha=0.05):\n",
    "    \"\"\"\n",
    "    Performs the Benjamini-Hochberg procedure for controlling the False Discovery Rate (FDR).\n",
    "    \n",
    "    Args:\n",
    "        p_values (array-like): The list of p-values for each test.\n",
    "        alpha (float): The desired FDR level (default: 0.05).\n",
    "    \n",
    "    Returns:\n",
    "        numpy.ndarray: An array of FDR-corrected p-values.\n",
    "    \"\"\"\n",
    "    m = len(p_values)\n",
    "    sorted_indices = np.argsort(p_values)\n",
    "    sorted_p_values = p_values[sorted_indices]\n",
    "    \n",
    "    threshold_values = (np.arange(1, m+1) / m) * alpha\n",
    "    adjusted_p_values = np.zeros_like(sorted_p_values)\n",
    "    \n",
    "    for i in range(m):\n",
    "        adjusted_p_values[i] = min(sorted_p_values[i] * m / (i+1), 1)\n",
    "    \n",
    "    adjusted_p_values[np.argsort(sorted_indices)] = adjusted_p_values\n",
    "    \n",
    "    return adjusted_p_values\n",
    "\n"
   ]
  },
  {
   "cell_type": "code",
   "execution_count": 279,
   "metadata": {},
   "outputs": [],
   "source": [
    "# FDR correction column, not used for final version\n",
    "p_values = lin28a_hexamer['p-value'].values\n",
    "fdr_corrected_p_values = benjamini_hochberg(p_values, alpha=0.05)\n",
    "\n",
    "lin28a_hexamer['FDR_corrected_pvalue'] = fdr_corrected_p_values"
   ]
  },
  {
   "cell_type": "code",
   "execution_count": 280,
   "metadata": {},
   "outputs": [
    {
     "data": {
      "text/html": [
       "<div>\n",
       "<style scoped>\n",
       "    .dataframe tbody tr th:only-of-type {\n",
       "        vertical-align: middle;\n",
       "    }\n",
       "\n",
       "    .dataframe tbody tr th {\n",
       "        vertical-align: top;\n",
       "    }\n",
       "\n",
       "    .dataframe thead th {\n",
       "        text-align: right;\n",
       "    }\n",
       "</style>\n",
       "<table border=\"1\" class=\"dataframe\">\n",
       "  <thead>\n",
       "    <tr style=\"text-align: right;\">\n",
       "      <th></th>\n",
       "      <th>Sequence</th>\n",
       "      <th>Count</th>\n",
       "      <th>Frequency (%)</th>\n",
       "      <th>GRCm39 Genome Frequency (%)</th>\n",
       "      <th>Motif Enrichment (fold)</th>\n",
       "      <th>Odds Ratio</th>\n",
       "      <th>p-value</th>\n",
       "      <th>FDR_corrected_pvalue</th>\n",
       "    </tr>\n",
       "  </thead>\n",
       "  <tbody>\n",
       "    <tr>\n",
       "      <th>0</th>\n",
       "      <td>AAGGAG</td>\n",
       "      <td>573</td>\n",
       "      <td>2.287240</td>\n",
       "      <td>0.062982</td>\n",
       "      <td>36.315782</td>\n",
       "      <td>37.142488</td>\n",
       "      <td>0.000000e+00</td>\n",
       "      <td>0.000000e+00</td>\n",
       "    </tr>\n",
       "    <tr>\n",
       "      <th>1</th>\n",
       "      <td>AAGGUG</td>\n",
       "      <td>289</td>\n",
       "      <td>1.153600</td>\n",
       "      <td>0.037752</td>\n",
       "      <td>30.557446</td>\n",
       "      <td>30.902414</td>\n",
       "      <td>1.236101e-310</td>\n",
       "      <td>8.972594e-152</td>\n",
       "    </tr>\n",
       "    <tr>\n",
       "      <th>2</th>\n",
       "      <td>AAGGCG</td>\n",
       "      <td>69</td>\n",
       "      <td>0.275427</td>\n",
       "      <td>0.011514</td>\n",
       "      <td>23.921640</td>\n",
       "      <td>23.984957</td>\n",
       "      <td>1.872191e-68</td>\n",
       "      <td>0.000000e+00</td>\n",
       "    </tr>\n",
       "    <tr>\n",
       "      <th>3</th>\n",
       "      <td>AAGAGA</td>\n",
       "      <td>349</td>\n",
       "      <td>1.393100</td>\n",
       "      <td>0.060944</td>\n",
       "      <td>22.858535</td>\n",
       "      <td>23.167388</td>\n",
       "      <td>0.000000e+00</td>\n",
       "      <td>0.000000e+00</td>\n",
       "    </tr>\n",
       "    <tr>\n",
       "      <th>4</th>\n",
       "      <td>AAGAGG</td>\n",
       "      <td>293</td>\n",
       "      <td>1.169570</td>\n",
       "      <td>0.053428</td>\n",
       "      <td>21.890471</td>\n",
       "      <td>22.214092</td>\n",
       "      <td>1.705712e-275</td>\n",
       "      <td>3.343195e-273</td>\n",
       "    </tr>\n",
       "  </tbody>\n",
       "</table>\n",
       "</div>"
      ],
      "text/plain": [
       "  Sequence  Count  Frequency (%)  GRCm39 Genome Frequency (%)  \\\n",
       "0   AAGGAG    573       2.287240                     0.062982   \n",
       "1   AAGGUG    289       1.153600                     0.037752   \n",
       "2   AAGGCG     69       0.275427                     0.011514   \n",
       "3   AAGAGA    349       1.393100                     0.060944   \n",
       "4   AAGAGG    293       1.169570                     0.053428   \n",
       "\n",
       "   Motif Enrichment (fold)  Odds Ratio        p-value  FDR_corrected_pvalue  \n",
       "0                36.315782   37.142488   0.000000e+00          0.000000e+00  \n",
       "1                30.557446   30.902414  1.236101e-310         8.972594e-152  \n",
       "2                23.921640   23.984957   1.872191e-68          0.000000e+00  \n",
       "3                22.858535   23.167388   0.000000e+00          0.000000e+00  \n",
       "4                21.890471   22.214092  1.705712e-275         3.343195e-273  "
      ]
     },
     "execution_count": 280,
     "metadata": {},
     "output_type": "execute_result"
    }
   ],
   "source": [
    "lin28a_hexamer.head()"
   ]
  },
  {
   "cell_type": "code",
   "execution_count": 281,
   "metadata": {},
   "outputs": [],
   "source": [
    "import matplotlib.pyplot as plt\n",
    "import numpy as np"
   ]
  },
  {
   "cell_type": "code",
   "execution_count": 282,
   "metadata": {},
   "outputs": [],
   "source": [
    "# Extract the motif enrichment values\n",
    "\n",
    "cmap = plt.cm.Blues\n",
    "motif_enrichment = np.array([G.nodes[node]['Motif Enrichment (fold)'] for node in G.nodes])\n",
    "\n",
    "# Color is in log2 FC\n",
    "norm = plt.Normalize(vmin=np.log2(min(motif_enrichment)), vmax=np.log2(max(motif_enrichment)))\n",
    "\n",
    "# Node size is in linear FC\n",
    "node_colors = cmap(norm(np.log2(motif_enrichment)))  \n",
    "node_sizes = 2000 * ((motif_enrichment) / (max(motif_enrichment)))  \n"
   ]
  },
  {
   "cell_type": "code",
   "execution_count": 284,
   "metadata": {},
   "outputs": [
    {
     "data": {
      "image/png": "[encoded data removed]",
      "text/plain": [
       "<Figure size 1000x1000 with 2 Axes>"
      ]
     },
     "metadata": {},
     "output_type": "display_data"
    }
   ],
   "source": [
    "# Overall structure from ChatGPT, but I fixed the conditions, colormap, text size and position for better visualization\n",
    "fig, ax = plt.subplots(figsize=(10, 10))\n",
    "\n",
    "# Draw the graph\n",
    "pos = nx.spring_layout(G, seed=42)\n",
    "nx.draw_networkx_nodes(G, pos, node_color=node_colors, node_size=node_sizes, edgecolors='black', cmap=cmap)\n",
    "nx.draw_networkx_edges(G, pos, edge_color='black')\n",
    "\n",
    "# Customize node labels\n",
    "labels = {node: node for node in G.nodes}\n",
    "for node, (x, y) in pos.items():\n",
    "    if G.nodes[node]['Motif Enrichment (fold)'] < 20:\n",
    "        font_size = 5\n",
    "        nx.draw_networkx_labels(G, pos, labels={node: node}, font_size=font_size, font_weight='bold')\n",
    "\n",
    "    else:\n",
    "        font_size = 8*G.nodes[node]['Motif Enrichment (fold)']/(max(motif_enrichment))\n",
    "        # If the text fits inside the node, print it in white color\n",
    "        nx.draw_networkx_labels(G, pos, labels={node: node}, font_size=font_size,\n",
    "                                font_color='white', font_weight='bold')\n",
    "\n",
    "# Add a colorbar\n",
    "sm = plt.cm.ScalarMappable(cmap=cmap, norm=norm)\n",
    "sm.set_array([])\n",
    "cbar = plt.colorbar(sm, ax=ax, shrink=0.5, )  # Provide the ax argument\n",
    "cbar.set_label('Hexamer motif enrichment (fold)', fontsize=12)\n",
    "\n",
    "# Remove the axis\n",
    "ax.axis('off')\n",
    "\n",
    "# Show the plot\n",
    "plt.tight_layout()\n",
    "plt.savefig('Seojin_Termproj/Hexamer_motif_network.png')\n",
    "plt.show()"
   ]
  },
  {
   "cell_type": "code",
   "execution_count": null,
   "metadata": {},
   "outputs": [],
   "source": []
  },
  {
   "cell_type": "code",
   "execution_count": null,
   "metadata": {},
   "outputs": [],
   "source": []
  },
  {
   "cell_type": "code",
   "execution_count": null,
   "metadata": {},
   "outputs": [],
   "source": []
  }
 ],
 "metadata": {
  "kernelspec": {
   "display_name": "bioinfo",
   "language": "python",
   "name": "python3"
  },
  "language_info": {
   "codemirror_mode": {
    "name": "ipython",
    "version": 3
   },
   "file_extension": ".py",
   "mimetype": "text/x-python",
   "name": "python",
   "nbconvert_exporter": "python",
   "pygments_lexer": "ipython3",
   "version": "3.12.3"
  }
 },
 "nbformat": 4,
 "nbformat_minor": 2
}
