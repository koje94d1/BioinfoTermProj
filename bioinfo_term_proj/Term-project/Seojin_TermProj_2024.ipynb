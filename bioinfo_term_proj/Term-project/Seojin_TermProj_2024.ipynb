{
 "cells": [
  {
   "cell_type": "code",
   "execution_count": 2,
   "metadata": {},
   "outputs": [
    {
     "name": "stdout",
     "output_type": "stream",
     "text": [
      "/rna/seojin/proj/bioinformatics/bioinfo_term_proj/binfo1-work\n"
     ]
    }
   ],
   "source": [
    "%cd ../binfo1-work"
   ]
  },
  {
   "cell_type": "code",
   "execution_count": 2,
   "metadata": {},
   "outputs": [
    {
     "name": "stdout",
     "output_type": "stream",
     "text": [
      "[mpileup] 1 samples in 1 input files\n",
      "68548 CLIP-let7g.pileup\n"
     ]
    }
   ],
   "source": [
    "!samtools mpileup ../binfo1-datapack1/CLIP-35L33G.bam > Seojin_Termproj/CLIP-35L33G.pileup\n",
    "!wc -l CLIP-let7g.pileup"
   ]
  },
  {
   "cell_type": "code",
   "execution_count": 3,
   "metadata": {},
   "outputs": [
    {
     "name": "stdout",
     "output_type": "stream",
     "text": [
      "chr1\t3056473\tN\t4\t^!G^!G^!G^!G\tHGGI\n",
      "chr1\t3056474\tN\t4\tAAAA\tHB@I\n",
      "chr1\t3056475\tN\t4\tAAAA\tGG?I\n",
      "chr1\t3056476\tN\t4\tTTTT\tHGGH\n",
      "chr1\t3056477\tN\t4\tGGGG\tHEGI\n",
      "chr1\t3056478\tN\t4\tGGGG\tGEEI\n",
      "chr1\t3056479\tN\t4\tAAAA\tEA=I\n",
      "chr1\t3056480\tN\t4\tAAAA\t@AEH\n",
      "chr1\t3056481\tN\t4\tGGGG\tGFFI\n",
      "chr1\t3056482\tN\t4\tTTTT\tG=BG\n"
     ]
    }
   ],
   "source": [
    "!head Seojin_Termproj/CLIP-35L33G.pileup"
   ]
  },
  {
   "cell_type": "code",
   "execution_count": 3,
   "metadata": {},
   "outputs": [],
   "source": [
    "import pandas as pd"
   ]
  },
  {
   "cell_type": "code",
   "execution_count": 3,
   "metadata": {},
   "outputs": [
    {
     "name": "stderr",
     "output_type": "stream",
     "text": [
      "/tmp/ipykernel_2155664/4078999649.py:1: DtypeWarning: Columns (5) have mixed types. Specify dtype option on import or set low_memory=False.\n",
      "  pileup = pd.read_csv('Seojin_Termproj/CLIP-35L33G.pileup', sep='\\t', names=['chrom', 'pos', '_ref', 'count', 'basereads', 'quals'])\n"
     ]
    },
    {
     "data": {
      "text/html": [
       "<div>\n",
       "<style scoped>\n",
       "    .dataframe tbody tr th:only-of-type {\n",
       "        vertical-align: middle;\n",
       "    }\n",
       "\n",
       "    .dataframe tbody tr th {\n",
       "        vertical-align: top;\n",
       "    }\n",
       "\n",
       "    .dataframe thead th {\n",
       "        text-align: right;\n",
       "    }\n",
       "</style>\n",
       "<table border=\"1\" class=\"dataframe\">\n",
       "  <thead>\n",
       "    <tr style=\"text-align: right;\">\n",
       "      <th></th>\n",
       "      <th>chrom</th>\n",
       "      <th>pos</th>\n",
       "      <th>_ref</th>\n",
       "      <th>count</th>\n",
       "      <th>basereads</th>\n",
       "      <th>quals</th>\n",
       "    </tr>\n",
       "  </thead>\n",
       "  <tbody>\n",
       "    <tr>\n",
       "      <th>959697295</th>\n",
       "      <td>MU069435.1</td>\n",
       "      <td>31107</td>\n",
       "      <td>N</td>\n",
       "      <td>2</td>\n",
       "      <td>GG</td>\n",
       "      <td>BC</td>\n",
       "    </tr>\n",
       "    <tr>\n",
       "      <th>959697296</th>\n",
       "      <td>MU069435.1</td>\n",
       "      <td>31108</td>\n",
       "      <td>N</td>\n",
       "      <td>2</td>\n",
       "      <td>GG</td>\n",
       "      <td>B&gt;</td>\n",
       "    </tr>\n",
       "    <tr>\n",
       "      <th>959697297</th>\n",
       "      <td>MU069435.1</td>\n",
       "      <td>31109</td>\n",
       "      <td>N</td>\n",
       "      <td>2</td>\n",
       "      <td>TT</td>\n",
       "      <td>@3</td>\n",
       "    </tr>\n",
       "    <tr>\n",
       "      <th>959697298</th>\n",
       "      <td>MU069435.1</td>\n",
       "      <td>31110</td>\n",
       "      <td>N</td>\n",
       "      <td>2</td>\n",
       "      <td>GG</td>\n",
       "      <td>B1</td>\n",
       "    </tr>\n",
       "    <tr>\n",
       "      <th>959697299</th>\n",
       "      <td>MU069435.1</td>\n",
       "      <td>31111</td>\n",
       "      <td>N</td>\n",
       "      <td>2</td>\n",
       "      <td>G$G$</td>\n",
       "      <td>@6</td>\n",
       "    </tr>\n",
       "  </tbody>\n",
       "</table>\n",
       "</div>"
      ],
      "text/plain": [
       "                chrom    pos _ref  count basereads quals\n",
       "959697295  MU069435.1  31107    N      2        GG    BC\n",
       "959697296  MU069435.1  31108    N      2        GG    B>\n",
       "959697297  MU069435.1  31109    N      2        TT    @3\n",
       "959697298  MU069435.1  31110    N      2        GG    B1\n",
       "959697299  MU069435.1  31111    N      2      G$G$    @6"
      ]
     },
     "execution_count": 3,
     "metadata": {},
     "output_type": "execute_result"
    }
   ],
   "source": [
    "pileup = pd.read_csv('Seojin_Termproj/CLIP-35L33G.pileup', sep='\\t', names=['chrom', 'pos', '_ref', 'count', 'basereads', 'quals'])\n",
    "pileup.tail()"
   ]
  },
  {
   "cell_type": "markdown",
   "metadata": {},
   "source": [
    "Leave only match(. or ,), mismatch(ACGT or acgt), deletion(* or */#) from basereads. I won't consider insertion(+)"
   ]
  },
  {
   "cell_type": "code",
   "execution_count": 5,
   "metadata": {},
   "outputs": [],
   "source": [
    "import re\n"
   ]
  },
  {
   "cell_type": "code",
   "execution_count": 6,
   "metadata": {},
   "outputs": [],
   "source": [
    "# (+or-)(any number k)(length k with word with at leaste 1 element in ATGCatgc) to regex\n",
    "pattern = re.compile(r'[\\+\\-]([1-9][0-9]*)((?=.*[ATGCatgc])[A-Za-z]{\\1})')\n",
    "\n",
    "for row in pileup.itertuples():\n",
    "    # check if pattern is contained in the basereads\n",
    "    match = pattern.search(row.basereads)\n",
    "    if match:\n",
    "        print(match.groups())"
   ]
  },
  {
   "cell_type": "markdown",
   "metadata": {},
   "source": [
    "There is no -3ATG case. All of the deletion is marked as -3NNN format. "
   ]
  },
  {
   "cell_type": "code",
   "execution_count": 7,
   "metadata": {},
   "outputs": [
    {
     "name": "stderr",
     "output_type": "stream",
     "text": [
      "<>:1: SyntaxWarning: invalid escape sequence '\\*'\n",
      "<>:1: SyntaxWarning: invalid escape sequence '\\*'\n",
      "/tmp/ipykernel_2155664/3979841347.py:1: SyntaxWarning: invalid escape sequence '\\*'\n",
      "  toremove = re.compile('[^ATGCatgc\\*]')\n"
     ]
    }
   ],
   "source": [
    "toremove = re.compile('[^ATGCatgc\\*]') \n",
    "pileup['filtered_basereads'] = pileup['basereads'].apply(lambda x: toremove.sub('', x))"
   ]
  },
  {
   "cell_type": "code",
   "execution_count": 8,
   "metadata": {},
   "outputs": [],
   "source": [
    "import numpy as np\n",
    "def Shannon_entropy(match):\n",
    "    num_A = match.upper().count('A')\n",
    "    num_T = match.upper().count('T')\n",
    "    num_G = match.upper().count('G')\n",
    "    num_C = match.upper().count('C')\n",
    "    num_del = match.upper().count('*')\n",
    "\n",
    "    # Calculate total number of valid bases\n",
    "    total_bases = num_A + num_T + num_G + num_C + num_del\n",
    "\n",
    "    # Calculate probabilities\n",
    "    if total_bases > 0:\n",
    "        p_A = num_A / total_bases\n",
    "        p_T = num_T / total_bases\n",
    "        p_G = num_G / total_bases\n",
    "        p_C = num_C / total_bases\n",
    "        p_del = num_del / total_bases\n",
    "\n",
    "        # Calculate Shannon entropy\n",
    "        entropy = 0\n",
    "        for p in [p_A, p_T, p_G, p_C, p_del]:\n",
    "            if p > 0:\n",
    "                entropy -= p * np.log2(p)\n",
    "    else:\n",
    "        entropy = 0\n",
    "\n",
    "    return entropy\n"
   ]
  },
  {
   "cell_type": "code",
   "execution_count": 13,
   "metadata": {},
   "outputs": [],
   "source": [
    "def Calculate_Shannon_Entropy(pileup):\n",
    "    for row in pileup.itertuples():\n",
    "        shannon_entropy = Shannon_entropy(row.filtered_basereads)\n",
    "        pileup.at[row.Index, 'Shannon_entropy'] = shannon_entropy"
   ]
  },
  {
   "cell_type": "code",
   "execution_count": 14,
   "metadata": {},
   "outputs": [],
   "source": [
    "Calculate_Shannon_Entropy(pileup)"
   ]
  },
  {
   "cell_type": "code",
   "execution_count": 15,
   "metadata": {},
   "outputs": [
    {
     "data": {
      "text/html": [
       "<div>\n",
       "<style scoped>\n",
       "    .dataframe tbody tr th:only-of-type {\n",
       "        vertical-align: middle;\n",
       "    }\n",
       "\n",
       "    .dataframe tbody tr th {\n",
       "        vertical-align: top;\n",
       "    }\n",
       "\n",
       "    .dataframe thead th {\n",
       "        text-align: right;\n",
       "    }\n",
       "</style>\n",
       "<table border=\"1\" class=\"dataframe\">\n",
       "  <thead>\n",
       "    <tr style=\"text-align: right;\">\n",
       "      <th></th>\n",
       "      <th>chrom</th>\n",
       "      <th>pos</th>\n",
       "      <th>_ref</th>\n",
       "      <th>count</th>\n",
       "      <th>basereads</th>\n",
       "      <th>quals</th>\n",
       "      <th>filtered_basereads</th>\n",
       "      <th>Shannon_entropy</th>\n",
       "    </tr>\n",
       "  </thead>\n",
       "  <tbody>\n",
       "    <tr>\n",
       "      <th>0</th>\n",
       "      <td>chr1</td>\n",
       "      <td>3056473</td>\n",
       "      <td>N</td>\n",
       "      <td>4</td>\n",
       "      <td>^!G^!G^!G^!G</td>\n",
       "      <td>HGGI</td>\n",
       "      <td>GGGG</td>\n",
       "      <td>0.0</td>\n",
       "    </tr>\n",
       "    <tr>\n",
       "      <th>1</th>\n",
       "      <td>chr1</td>\n",
       "      <td>3056474</td>\n",
       "      <td>N</td>\n",
       "      <td>4</td>\n",
       "      <td>AAAA</td>\n",
       "      <td>HB@I</td>\n",
       "      <td>AAAA</td>\n",
       "      <td>0.0</td>\n",
       "    </tr>\n",
       "    <tr>\n",
       "      <th>2</th>\n",
       "      <td>chr1</td>\n",
       "      <td>3056475</td>\n",
       "      <td>N</td>\n",
       "      <td>4</td>\n",
       "      <td>AAAA</td>\n",
       "      <td>GG?I</td>\n",
       "      <td>AAAA</td>\n",
       "      <td>0.0</td>\n",
       "    </tr>\n",
       "    <tr>\n",
       "      <th>3</th>\n",
       "      <td>chr1</td>\n",
       "      <td>3056476</td>\n",
       "      <td>N</td>\n",
       "      <td>4</td>\n",
       "      <td>TTTT</td>\n",
       "      <td>HGGH</td>\n",
       "      <td>TTTT</td>\n",
       "      <td>0.0</td>\n",
       "    </tr>\n",
       "    <tr>\n",
       "      <th>4</th>\n",
       "      <td>chr1</td>\n",
       "      <td>3056477</td>\n",
       "      <td>N</td>\n",
       "      <td>4</td>\n",
       "      <td>GGGG</td>\n",
       "      <td>HEGI</td>\n",
       "      <td>GGGG</td>\n",
       "      <td>0.0</td>\n",
       "    </tr>\n",
       "  </tbody>\n",
       "</table>\n",
       "</div>"
      ],
      "text/plain": [
       "  chrom      pos _ref  count     basereads quals filtered_basereads  \\\n",
       "0  chr1  3056473    N      4  ^!G^!G^!G^!G  HGGI               GGGG   \n",
       "1  chr1  3056474    N      4          AAAA  HB@I               AAAA   \n",
       "2  chr1  3056475    N      4          AAAA  GG?I               AAAA   \n",
       "3  chr1  3056476    N      4          TTTT  HGGH               TTTT   \n",
       "4  chr1  3056477    N      4          GGGG  HEGI               GGGG   \n",
       "\n",
       "   Shannon_entropy  \n",
       "0              0.0  \n",
       "1              0.0  \n",
       "2              0.0  \n",
       "3              0.0  \n",
       "4              0.0  "
      ]
     },
     "execution_count": 15,
     "metadata": {},
     "output_type": "execute_result"
    }
   ],
   "source": [
    "pileup.head()"
   ]
  },
  {
   "cell_type": "code",
   "execution_count": 17,
   "metadata": {},
   "outputs": [],
   "source": [
    "pileup.to_csv('Seojin_Termproj/CLIP-35L33G_with_Shannon.pileup', sep='\\t', index=False)"
   ]
  },
  {
   "cell_type": "code",
   "execution_count": null,
   "metadata": {},
   "outputs": [],
   "source": [
    "%wget https://ftp.ebi.ac.uk/pub/databases/gencode/Gencode_mouse/release_M35/GRCm39.primary_assembly.genome.fa.gz\n",
    "%gunzip GRCm39.primary_assembly.genome.fa.gz\n",
    "%samtools faidx GRCm39.primary_assembly.genome.fa"
   ]
  },
  {
   "cell_type": "code",
   "execution_count": 20,
   "metadata": {},
   "outputs": [],
   "source": [
    "mutation_rich = pileup[(pileup['Shannon_entropy'] > 0.8) & (pileup['count'] > 50)]\n"
   ]
  },
  {
   "cell_type": "code",
   "execution_count": 24,
   "metadata": {},
   "outputs": [],
   "source": [
    "len(mutation_rich)\n",
    "mutation_rich.head()\n",
    "mutation_rich.to_csv('Seojin_Termproj/CLIP-35L33G_with_Shannon_mutation_rich.pileup', sep='\\t', index=False)"
   ]
  },
  {
   "cell_type": "code",
   "execution_count": 5,
   "metadata": {},
   "outputs": [],
   "source": [
    "mutation_rich = pd.read_csv('Seojin_Termproj/CLIP-35L33G_with_Shannon_mutation_rich.pileup', sep='\\t')"
   ]
  },
  {
   "cell_type": "code",
   "execution_count": 6,
   "metadata": {},
   "outputs": [],
   "source": [
    "with open('Seojin_Termproj/CLIP-35L33G_mutation_rich.bed', 'w') as f:\n",
    "    for row in mutation_rich.itertuples():\n",
    "        f.write(f'{row.chrom}\\t{row.pos-6}\\t{row.pos+5}\\n')"
   ]
  },
  {
   "cell_type": "code",
   "execution_count": null,
   "metadata": {},
   "outputs": [],
   "source": [
    "%bedtools getfasta -fi GRCm39.primary_assembly.genome.fa -bed CLIP-35L33G_mutation_rich.bed -fo CLIP-35L33G_mutation_rich_sequences.fa\n",
    "%sed '/^>/d' CLIP-35L33G_mutation_rich_sequences.fa |  grep -E '^.{5}G' > CLIP-35L33G_mutation_rich_sequences_without_name_with_G_6left_5right.txt \n",
    "%sed 's/T/U/g' CLIP-35L33G_mutation_rich_sequences_without_name_with_G_6left_5right.txt > CLIP-35L33G_mutation_rich_sequences_without_name_with_G_6left_5right_TtoU.txt "
   ]
  },
  {
   "cell_type": "markdown",
   "metadata": {},
   "source": [
    "https://weblogo.threeplusone.com\n",
    "\n",
    "Used above weblogo site(WebLogo 3>Create your own logos) to create weblogo image for Figure2A in the article. I uploaded  \n",
    "CLIP-35L33G_mutation_rich_sequences_without_name_with_G_6left_5right_TtoU.txt  \n",
    "file to the sequence data input of the WebLogo site. \n",
    "\n",
    "Option \n",
    "- First position number: -5\n",
    "- Color scheme: Classic (NA)\n",
    "- Units: bits, probability\n",
    "- Version fineprint: off\n",
    "- Error bar: off\n",
    "\n",
    "\n",
    "I manually merged the two figures bits and probabilty in the powerpoint slide. "
   ]
  },
  {
   "cell_type": "markdown",
   "metadata": {},
   "source": [
    "Sort hexamer by frequency"
   ]
  },
  {
   "cell_type": "code",
   "execution_count": null,
   "metadata": {},
   "outputs": [],
   "source": [
    "%awk '{count[substr($0, 4, 6)]++} END {for (seq in count) {print seq, count[seq]}}' CLIP-35L33G_mutation_rich_sequences_without_name_with_G_6left_5right_TtoU.txt | sort -k2 -rn | awk '{a[FNR]=$0; sum+=$2} END {for (i=1; i<=FNR; i++) {split(a[i], b, \" \"); print b[1], b[2], (b[2]/sum)*100}}' > top_LIN28A_interacting_hexamer.txt"
   ]
  },
  {
   "cell_type": "code",
   "execution_count": 7,
   "metadata": {},
   "outputs": [],
   "source": [
    "from decimal import Decimal, ROUND_HALF_UP, ROUND_HALF_EVEN\n",
    "import pandas as pd\n",
    "def my_round(in_number, ndigits=0, rounding_rule=1):\n",
    "    \"\"\"rounding_rule==1: ROUND_HALF_UP, Round to nearest, ties away from zero\n",
    "       rounding_rule==2: ROUND_HALF_EVEN, Round to nearest, ties to even \"\"\"\n",
    "    # make float expression\n",
    "    if ndigits > 0:\n",
    "        expression = '0.' + '0'*ndigits\n",
    "        number = in_number\n",
    "    else: # 0 or negative\n",
    "        expression = '0'\n",
    "        number = in_number / (10**(-ndigits))\n",
    "    \n",
    "    # round by rounding rule\n",
    "    if rounding_rule == 2:\n",
    "        round_number = Decimal(number).quantize(Decimal(expression), rounding=ROUND_HALF_EVEN)\n",
    "    else:\n",
    "        round_number = Decimal(number).quantize(Decimal(expression), rounding=ROUND_HALF_UP)\n",
    "    \n",
    "    # return number\n",
    "    if ndigits > 0:\n",
    "        return float(round_number)\n",
    "    else: # 0 or negative\n",
    "        return int(round_number * (10**(-ndigits)))"
   ]
  },
  {
   "cell_type": "code",
   "execution_count": 15,
   "metadata": {},
   "outputs": [],
   "source": [
    "lin28a_interacting_hexamer = pd.read_csv(\"/rna/seojin/proj/bioinformatics/bioinfo_term_proj/binfo1-work/Seojin_Termproj/top_LIN28A_interacting_hexamer.txt\", sep=\" \", names=[\"Sequence\", \"Count\", \"Frequency (%)\"])"
   ]
  },
  {
   "cell_type": "code",
   "execution_count": 16,
   "metadata": {},
   "outputs": [],
   "source": [
    "for row in lin28a_interacting_hexamer.itertuples():\n",
    "    lin28a_interacting_hexamer.at[row.Index, 'Frequency (%)'] = my_round(row._3, 2)"
   ]
  },
  {
   "cell_type": "code",
   "execution_count": 22,
   "metadata": {},
   "outputs": [
    {
     "data": {
      "text/html": [
       "<div>\n",
       "<style scoped>\n",
       "    .dataframe tbody tr th:only-of-type {\n",
       "        vertical-align: middle;\n",
       "    }\n",
       "\n",
       "    .dataframe tbody tr th {\n",
       "        vertical-align: top;\n",
       "    }\n",
       "\n",
       "    .dataframe thead th {\n",
       "        text-align: right;\n",
       "    }\n",
       "</style>\n",
       "<table border=\"1\" class=\"dataframe\">\n",
       "  <thead>\n",
       "    <tr style=\"text-align: right;\">\n",
       "      <th></th>\n",
       "      <th>Sequence</th>\n",
       "      <th>Frequency (%)</th>\n",
       "    </tr>\n",
       "  </thead>\n",
       "  <tbody>\n",
       "    <tr>\n",
       "      <th>0</th>\n",
       "      <td>AAGGAG</td>\n",
       "      <td>2.29</td>\n",
       "    </tr>\n",
       "    <tr>\n",
       "      <th>1</th>\n",
       "      <td>AAGAAG</td>\n",
       "      <td>1.68</td>\n",
       "    </tr>\n",
       "    <tr>\n",
       "      <th>2</th>\n",
       "      <td>AAGAGA</td>\n",
       "      <td>1.39</td>\n",
       "    </tr>\n",
       "    <tr>\n",
       "      <th>3</th>\n",
       "      <td>GAGGAG</td>\n",
       "      <td>1.35</td>\n",
       "    </tr>\n",
       "    <tr>\n",
       "      <th>4</th>\n",
       "      <td>AAGAGG</td>\n",
       "      <td>1.17</td>\n",
       "    </tr>\n",
       "    <tr>\n",
       "      <th>5</th>\n",
       "      <td>AAGGUG</td>\n",
       "      <td>1.15</td>\n",
       "    </tr>\n",
       "    <tr>\n",
       "      <th>6</th>\n",
       "      <td>GAGAGA</td>\n",
       "      <td>0.89</td>\n",
       "    </tr>\n",
       "    <tr>\n",
       "      <th>7</th>\n",
       "      <td>AAGAAA</td>\n",
       "      <td>0.86</td>\n",
       "    </tr>\n",
       "    <tr>\n",
       "      <th>8</th>\n",
       "      <td>UGGAGA</td>\n",
       "      <td>0.84</td>\n",
       "    </tr>\n",
       "    <tr>\n",
       "      <th>9</th>\n",
       "      <td>GAGAAG</td>\n",
       "      <td>0.83</td>\n",
       "    </tr>\n",
       "  </tbody>\n",
       "</table>\n",
       "</div>"
      ],
      "text/plain": [
       "  Sequence  Frequency (%)\n",
       "0   AAGGAG           2.29\n",
       "1   AAGAAG           1.68\n",
       "2   AAGAGA           1.39\n",
       "3   GAGGAG           1.35\n",
       "4   AAGAGG           1.17\n",
       "5   AAGGUG           1.15\n",
       "6   GAGAGA           0.89\n",
       "7   AAGAAA           0.86\n",
       "8   UGGAGA           0.84\n",
       "9   GAGAAG           0.83"
      ]
     },
     "execution_count": 22,
     "metadata": {},
     "output_type": "execute_result"
    }
   ],
   "source": [
    "# print only Sequence and Frequency columns\n",
    "lin28a_interacting_hexamer[['Sequence', 'Frequency (%)']].head(10)\n",
    "\n",
    "# Save this to table without index\n",
    "lin28a_interacting_hexamer[['Sequence', 'Frequency (%)']].head(10).to_csv('Seojin_Termproj/top10_LIN28A_interacting_hexamer.txt', sep=' ', index=False)"
   ]
  },
  {
   "cell_type": "markdown",
   "metadata": {},
   "source": [
    "I made table on powerpoint using the above data"
   ]
  },
  {
   "cell_type": "markdown",
   "metadata": {},
   "source": [
    "For sequence flanking hexamer binding to LIN28A, I used below code"
   ]
  },
  {
   "cell_type": "code",
   "execution_count": null,
   "metadata": {},
   "outputs": [],
   "source": [
    "%awk '{count[substr($0, 2, 2)\"......\"substr($0, 10, 2)]++} END {for (seq in count) {print seq, count[seq]}}' CLIP-35L33G_mutation_rich_sequences_without_name_with_G_6left_5right_TtoU.txt | sort -k2 -rn | awk '{a[FNR]=$0; sum+=$2} END {for (i=1; i<=FNR; i++) {split(a[i], b, \" \"); print b[1], b[2], (b[2]/sum)*100}}' > top_LIN28A_flanking_hexamer.txt    "
   ]
  },
  {
   "cell_type": "code",
   "execution_count": 25,
   "metadata": {},
   "outputs": [],
   "source": [
    "lin28a_flanking = pd.read_csv(\"/rna/seojin/proj/bioinformatics/bioinfo_term_proj/binfo1-work/Seojin_Termproj/top_LIN28A_flanking_hexamer.txt\", sep=\" \", names=[\"Sequence\", \"Count\", \"Frequency (%)\"])"
   ]
  },
  {
   "cell_type": "code",
   "execution_count": 26,
   "metadata": {},
   "outputs": [],
   "source": [
    "for row in lin28a_flanking.itertuples():\n",
    "    lin28a_flanking.at[row.Index, 'Frequency (%)'] = my_round(row._3, 2)"
   ]
  },
  {
   "cell_type": "code",
   "execution_count": 28,
   "metadata": {},
   "outputs": [
    {
     "data": {
      "text/html": [
       "<div>\n",
       "<style scoped>\n",
       "    .dataframe tbody tr th:only-of-type {\n",
       "        vertical-align: middle;\n",
       "    }\n",
       "\n",
       "    .dataframe tbody tr th {\n",
       "        vertical-align: top;\n",
       "    }\n",
       "\n",
       "    .dataframe thead th {\n",
       "        text-align: right;\n",
       "    }\n",
       "</style>\n",
       "<table border=\"1\" class=\"dataframe\">\n",
       "  <thead>\n",
       "    <tr style=\"text-align: right;\">\n",
       "      <th></th>\n",
       "      <th>Sequence</th>\n",
       "      <th>Frequency (%)</th>\n",
       "    </tr>\n",
       "  </thead>\n",
       "  <tbody>\n",
       "    <tr>\n",
       "      <th>0</th>\n",
       "      <td>CA......UG</td>\n",
       "      <td>1.41</td>\n",
       "    </tr>\n",
       "    <tr>\n",
       "      <th>1</th>\n",
       "      <td>CC......GG</td>\n",
       "      <td>1.19</td>\n",
       "    </tr>\n",
       "    <tr>\n",
       "      <th>2</th>\n",
       "      <td>CU......AG</td>\n",
       "      <td>1.00</td>\n",
       "    </tr>\n",
       "    <tr>\n",
       "      <th>3</th>\n",
       "      <td>GG......CC</td>\n",
       "      <td>0.97</td>\n",
       "    </tr>\n",
       "    <tr>\n",
       "      <th>4</th>\n",
       "      <td>GA......UG</td>\n",
       "      <td>0.95</td>\n",
       "    </tr>\n",
       "    <tr>\n",
       "      <th>5</th>\n",
       "      <td>AA......AA</td>\n",
       "      <td>0.91</td>\n",
       "    </tr>\n",
       "    <tr>\n",
       "      <th>6</th>\n",
       "      <td>AG......CU</td>\n",
       "      <td>0.91</td>\n",
       "    </tr>\n",
       "    <tr>\n",
       "      <th>7</th>\n",
       "      <td>UU......AA</td>\n",
       "      <td>0.88</td>\n",
       "    </tr>\n",
       "    <tr>\n",
       "      <th>8</th>\n",
       "      <td>AA......UU</td>\n",
       "      <td>0.87</td>\n",
       "    </tr>\n",
       "    <tr>\n",
       "      <th>9</th>\n",
       "      <td>UC......GA</td>\n",
       "      <td>0.84</td>\n",
       "    </tr>\n",
       "  </tbody>\n",
       "</table>\n",
       "</div>"
      ],
      "text/plain": [
       "     Sequence  Frequency (%)\n",
       "0  CA......UG           1.41\n",
       "1  CC......GG           1.19\n",
       "2  CU......AG           1.00\n",
       "3  GG......CC           0.97\n",
       "4  GA......UG           0.95\n",
       "5  AA......AA           0.91\n",
       "6  AG......CU           0.91\n",
       "7  UU......AA           0.88\n",
       "8  AA......UU           0.87\n",
       "9  UC......GA           0.84"
      ]
     },
     "execution_count": 28,
     "metadata": {},
     "output_type": "execute_result"
    }
   ],
   "source": [
    "lin28a_flanking[['Sequence', 'Frequency (%)']].head(10)\n",
    "lin28a_flanking[['Sequence', 'Frequency (%)']].head(10).to_csv('Seojin_Termproj/top10_LIN28A_flanking.txt', sep=' ', index=False)"
   ]
  },
  {
   "cell_type": "markdown",
   "metadata": {},
   "source": [
    "To normalize the kmer with the frequency of occurence in reference genome data. I used jellyfish to count the k-mer(in this case, hexamer) in the Reference."
   ]
  },
  {
   "cell_type": "code",
   "execution_count": null,
   "metadata": {},
   "outputs": [],
   "source": [
    "%jellyfish count -m 6 -s 100M -t 10 GRCm39.primary_assembly.genome.fa\n",
    "%jellyfish dump mer_counts.jf > mer_counts_dumps.fa "
   ]
  },
  {
   "cell_type": "code",
   "execution_count": 31,
   "metadata": {},
   "outputs": [
    {
     "ename": "ModuleNotFoundError",
     "evalue": "No module named 'Bio'",
     "output_type": "error",
     "traceback": [
      "\u001b[0;31m---------------------------------------------------------------------------\u001b[0m",
      "\u001b[0;31mModuleNotFoundError\u001b[0m                       Traceback (most recent call last)",
      "Cell \u001b[0;32mIn[31], line 1\u001b[0m\n\u001b[0;32m----> 1\u001b[0m \u001b[38;5;28;01mfrom\u001b[39;00m \u001b[38;5;21;01mBio\u001b[39;00m\u001b[38;5;21;01m.\u001b[39;00m\u001b[38;5;21;01mSeqIO\u001b[39;00m \u001b[38;5;28;01mimport\u001b[39;00m SeqIO\n",
      "\u001b[0;31mModuleNotFoundError\u001b[0m: No module named 'Bio'"
     ]
    }
   ],
   "source": []
  },
  {
   "cell_type": "code",
   "execution_count": null,
   "metadata": {},
   "outputs": [],
   "source": [
    "%mamba install biopython\n"
   ]
  },
  {
   "cell_type": "code",
   "execution_count": 32,
   "metadata": {},
   "outputs": [],
   "source": [
    "from Bio import SeqIO"
   ]
  },
  {
   "cell_type": "code",
   "execution_count": 59,
   "metadata": {},
   "outputs": [],
   "source": [
    "sum = 0\n",
    "with open('Seojin_Termproj/mer_counts_dumps_frequency.fa', 'w') as write_file:\n",
    "    with open('Seojin_Termproj/mer_counts_dumps.fa') as f:\n",
    "        records = list(SeqIO.parse(f, \"fasta\"))\n",
    "        for record in records:\n",
    "            sum += int(record.id)\n",
    "        write_file.write(f'Sequences\\tCounts\\tFrequency (%)\\n')\n",
    "        for record in records:\n",
    "            write_file.write(f'{record.seq}\\t{int(record.id)}\\t{int(record.id)/sum*100}\\n')\n"
   ]
  },
  {
   "cell_type": "code",
   "execution_count": 57,
   "metadata": {},
   "outputs": [
    {
     "name": "stderr",
     "output_type": "stream",
     "text": [
      "UsageError: Line magic function `%sort` not found.\n"
     ]
    }
   ],
   "source": [
    "%sort -nr -k2,2 mer_counts_dumps_frequency.fa > mer_counts_dumps_frequency_sorted.fa "
   ]
  },
  {
   "cell_type": "code",
   "execution_count": 74,
   "metadata": {},
   "outputs": [],
   "source": [
    "lin28a_hexamer = pd.read_csv(\"Seojin_Termproj/top_LIN28A_interacting_hexamer.txt\", sep=\" \", names=[\"Sequence\", \"Count\", \"Frequency (%)\"])\n",
    "jellyfish_count = pd.read_csv(\"Seojin_Termproj/mer_counts_dumps_frequency_sorted.fa\", sep=\"\\t\", names=[\"Sequence\", \"Count\", \"Frequency (%)\"])"
   ]
  },
  {
   "cell_type": "code",
   "execution_count": 75,
   "metadata": {},
   "outputs": [],
   "source": [
    "for row in lin28a_hexamer.itertuples():\n",
    "    genome_freq = float(jellyfish_count[jellyfish_count['Sequence'] == row.Sequence.replace('U', 'T')]['Frequency (%)'].values[0])\n",
    "    lin28a_hexamer.at[row.Index, 'GRCm39 Genome Frequency (%)'] = genome_freq\n",
    "    lin28a_hexamer.at[row.Index, 'Motif Enrichment (fold)'] = row._3 / genome_freq\n"
   ]
  },
  {
   "cell_type": "code",
   "execution_count": 76,
   "metadata": {},
   "outputs": [],
   "source": [
    "# sort by Motif Enrichment (fold) in descending order\n",
    "lin28a_hexamer.sort_values(by='Motif Enrichment (fold)', ascending=False, inplace=True)"
   ]
  },
  {
   "cell_type": "code",
   "execution_count": 77,
   "metadata": {},
   "outputs": [
    {
     "data": {
      "text/html": [
       "<div>\n",
       "<style scoped>\n",
       "    .dataframe tbody tr th:only-of-type {\n",
       "        vertical-align: middle;\n",
       "    }\n",
       "\n",
       "    .dataframe tbody tr th {\n",
       "        vertical-align: top;\n",
       "    }\n",
       "\n",
       "    .dataframe thead th {\n",
       "        text-align: right;\n",
       "    }\n",
       "</style>\n",
       "<table border=\"1\" class=\"dataframe\">\n",
       "  <thead>\n",
       "    <tr style=\"text-align: right;\">\n",
       "      <th></th>\n",
       "      <th>Sequence</th>\n",
       "      <th>Count</th>\n",
       "      <th>Frequency (%)</th>\n",
       "      <th>GRCm39 Genome Frequency (%)</th>\n",
       "      <th>Motif Enrichment (fold)</th>\n",
       "    </tr>\n",
       "  </thead>\n",
       "  <tbody>\n",
       "    <tr>\n",
       "      <th>505</th>\n",
       "      <td>UCGCGA</td>\n",
       "      <td>8</td>\n",
       "      <td>0.031934</td>\n",
       "      <td>0.000392</td>\n",
       "      <td>81.370296</td>\n",
       "    </tr>\n",
       "    <tr>\n",
       "      <th>108</th>\n",
       "      <td>AAGGCG</td>\n",
       "      <td>69</td>\n",
       "      <td>0.275427</td>\n",
       "      <td>0.004820</td>\n",
       "      <td>57.141051</td>\n",
       "    </tr>\n",
       "    <tr>\n",
       "      <th>458</th>\n",
       "      <td>ACGACG</td>\n",
       "      <td>10</td>\n",
       "      <td>0.039917</td>\n",
       "      <td>0.000757</td>\n",
       "      <td>52.750133</td>\n",
       "    </tr>\n",
       "    <tr>\n",
       "      <th>433</th>\n",
       "      <td>ACGGCG</td>\n",
       "      <td>11</td>\n",
       "      <td>0.043909</td>\n",
       "      <td>0.000843</td>\n",
       "      <td>52.096592</td>\n",
       "    </tr>\n",
       "    <tr>\n",
       "      <th>0</th>\n",
       "      <td>AAGGAG</td>\n",
       "      <td>573</td>\n",
       "      <td>2.287240</td>\n",
       "      <td>0.048228</td>\n",
       "      <td>47.425716</td>\n",
       "    </tr>\n",
       "  </tbody>\n",
       "</table>\n",
       "</div>"
      ],
      "text/plain": [
       "    Sequence  Count  Frequency (%)  GRCm39 Genome Frequency (%)  \\\n",
       "505   UCGCGA      8       0.031934                     0.000392   \n",
       "108   AAGGCG     69       0.275427                     0.004820   \n",
       "458   ACGACG     10       0.039917                     0.000757   \n",
       "433   ACGGCG     11       0.043909                     0.000843   \n",
       "0     AAGGAG    573       2.287240                     0.048228   \n",
       "\n",
       "     Motif Enrichment (fold)  \n",
       "505                81.370296  \n",
       "108                57.141051  \n",
       "458                52.750133  \n",
       "433                52.096592  \n",
       "0                  47.425716  "
      ]
     },
     "execution_count": 77,
     "metadata": {},
     "output_type": "execute_result"
    }
   ],
   "source": [
    "lin28a_hexamer.head()"
   ]
  },
  {
   "cell_type": "code",
   "execution_count": null,
   "metadata": {},
   "outputs": [],
   "source": []
  }
 ],
 "metadata": {
  "kernelspec": {
   "display_name": "bioinfo",
   "language": "python",
   "name": "python3"
  },
  "language_info": {
   "codemirror_mode": {
    "name": "ipython",
    "version": 3
   },
   "file_extension": ".py",
   "mimetype": "text/x-python",
   "name": "python",
   "nbconvert_exporter": "python",
   "pygments_lexer": "ipython3",
   "version": "3.12.3"
  }
 },
 "nbformat": 4,
 "nbformat_minor": 2
}
